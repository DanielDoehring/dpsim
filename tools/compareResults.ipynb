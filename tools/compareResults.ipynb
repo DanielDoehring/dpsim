{
 "cells": [
  {
   "cell_type": "code",
   "execution_count": null,
   "metadata": {},
   "outputs": [],
   "source": [
    "import matplotlib.pyplot as plt\n",
    "import csv\n",
    "import os\n",
    "\n",
    "import villas.dataprocessing.readtools as rt\n",
    "import villas.dataprocessing.timeseries as ts\n",
    "import villas.dataprocessing.plottools as pt\n",
    "import villas.dataprocessing.validationtools as vt"
   ]
  },
  {
   "cell_type": "markdown",
   "metadata": {},
   "source": [
    "### Read DPsim files"
   ]
  },
  {
   "cell_type": "code",
   "execution_count": null,
   "metadata": {},
   "outputs": [],
   "source": [
    "# Set path to file\n",
    "path = '../logs/WSCC-9bus_cosim_extension/'\n",
    "#path = '../logs/BackupComparison/30M-10M/'\n",
    "fileName = 'WSCC-9bus_cosim_extension'\n",
    "resultFile = path + fileName + '.csv'\n",
    "\n",
    "# Returns list of timeseries-objects\n",
    "ts_dpsim = rt.read_timeseries_dpsim(resultFile)"
   ]
  },
  {
   "cell_type": "markdown",
   "metadata": {},
   "source": [
    "### Read DistAIX files"
   ]
  },
  {
   "cell_type": "code",
   "execution_count": null,
   "metadata": {},
   "outputs": [],
   "source": [
    "# Change file to distaix path\n",
    "fileName = '3_4'\n",
    "resultFile = path + fileName + '.csv'\n",
    "resultFileFitted = path + fileName + '_temp.csv'"
   ]
  },
  {
   "cell_type": "markdown",
   "metadata": {},
   "source": [
    "As DistAIX uses different headers, those have to be adapted to be used by villas.dataprocessing"
   ]
  },
  {
   "cell_type": "code",
   "execution_count": null,
   "metadata": {},
   "outputs": [],
   "source": [
    "with open(resultFile, 'r') as inFile, open(resultFileFitted, 'w') as outFile:\n",
    "    read = csv.reader(inFile)\n",
    "    write = csv.writer(outFile)\n",
    "    \n",
    "    new_header = []\n",
    "    row = next(read)\n",
    "\n",
    "    new_header.append('time')\n",
    "    for element in row[1:]:\n",
    "        for idx,char in enumerate(element):\n",
    "            if char == '[':\n",
    "                break\n",
    "        if idx is len(element)-1:\n",
    "            idx += 1\n",
    "        new_header.append(element[:idx].strip())\n",
    "        \n",
    "    write.writerow(new_header)\n",
    "    for row in read:\n",
    "        write.writerow(row)"
   ]
  },
  {
   "cell_type": "code",
   "execution_count": null,
   "metadata": {},
   "outputs": [],
   "source": [
    "ts_distaix = rt.read_timeseries_csv(resultFileFitted)\n",
    "os.remove(resultFileFitted)"
   ]
  },
  {
   "cell_type": "markdown",
   "metadata": {},
   "source": [
    "### Compare the wished timeseries created by DPsim and DistAIX and calculate the error"
   ]
  },
  {
   "cell_type": "code",
   "execution_count": null,
   "metadata": {},
   "outputs": [],
   "source": [
    "key_dpsim = 'I_Load3'\n",
    "key_distaix = 'i2'\n",
    "\n",
    "ts1 = ts_dpsim[key_dpsim]\n",
    "ts2 = ts_distaix[key_distaix]\n",
    "\n",
    "####### Temporary test/workaround as I am not sure, why currents are negative?!\n",
    "####### Is this, because inflow currents are positive and we compare the\n",
    "####### inflow in DPsim's load with the outgoing current of DistAIX's cable??\n",
    "for count, value in enumerate(ts2.values.real):\n",
    "    ts2.values.real[count] = -value \n",
    "for count, value in enumerate(ts2.values.imag):\n",
    "    ts2.values.imag[count] = -value\n",
    "    \n",
    "rmse = ts1.rmse(ts1,ts2)\n",
    "rmse_norm = ts1.norm_rmse(ts1, ts2)\n",
    "\n",
    "print('')\n",
    "print('####################################')\n",
    "print('RMSE: ' + str(rmse))\n",
    "print('RMSE_norm: ' + str(rmse_norm))\n",
    "print('####################################')\n",
    "print('')\n",
    "print('')\n",
    "\n",
    "diff = ts1.diff('diff', ts1, ts2)\n",
    "print('###########################')\n",
    "print('Real values:')\n",
    "print('DPsim: ' + str(ts1.values.real))\n",
    "print('DistAIX: ' + str(ts2.values.real))\n",
    "print('###########################')\n",
    "print('')\n",
    "print('')\n",
    "\n",
    "print('###########################')\n",
    "print('Imag values:')\n",
    "print('DPsim: ' + str(ts1.values.imag))\n",
    "print('DistAIX: ' + str(ts2.values.imag))\n",
    "print('###########################')\n",
    "print('')\n",
    "print('')\n",
    "#plt.plot(diff.values.real)"
   ]
  },
  {
   "cell_type": "markdown",
   "metadata": {},
   "source": [
    "#### Time series plots\n"
   ]
  },
  {
   "cell_type": "code",
   "execution_count": null,
   "metadata": {},
   "outputs": [],
   "source": [
    "print('Timeseries plots')\n",
    "pt.set_timeseries_labels([ts1, ts2], ['DPsim: ' + key_dpsim, 'DistAIX: ' + key_distaix])\n",
    "pt.plot_timeseries(1,[ts1, ts2])"
   ]
  },
  {
   "cell_type": "code",
   "execution_count": null,
   "metadata": {},
   "outputs": [],
   "source": []
  },
  {
   "cell_type": "code",
   "execution_count": null,
   "metadata": {},
   "outputs": [],
   "source": []
  },
  {
   "cell_type": "code",
   "execution_count": null,
   "metadata": {},
   "outputs": [],
   "source": []
  }
 ],
 "metadata": {
  "kernelspec": {
   "display_name": "Python 3",
   "language": "python",
   "name": "python3"
  },
  "language_info": {
   "codemirror_mode": {
    "name": "ipython",
    "version": 3
   },
   "file_extension": ".py",
   "mimetype": "text/x-python",
   "name": "python",
   "nbconvert_exporter": "python",
   "pygments_lexer": "ipython3",
   "version": "3.7.4"
  }
 },
 "nbformat": 4,
 "nbformat_minor": 4
}
