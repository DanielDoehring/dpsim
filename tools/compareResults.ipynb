{
 "cells": [
  {
   "cell_type": "code",
   "execution_count": 1,
   "metadata": {},
   "outputs": [],
   "source": [
    "import matplotlib.pyplot as plt\n",
    "import csv\n",
    "import os\n",
    "\n",
    "import villas.dataprocessing.readtools as rt\n",
    "import villas.dataprocessing.timeseries as ts\n",
    "import villas.dataprocessing.plottools as pt\n",
    "import villas.dataprocessing.validationtools as vt\n"
   ]
  },
  {
   "cell_type": "markdown",
   "execution_count": null,
   "metadata": {},
   "outputs": [],
   "source": [
    "### Read DPsim files"
   ]
  },
  {
   "cell_type": "code",
   "execution_count": 2,
   "metadata": {},
   "outputs": [
    {
     "name": "stdout",
     "output_type": "stream",
     "text": "column number: 19\nresults length: 100\nreal column names: ['P_Load1', 'P_Load2', 'P_Load3', 'Q_Load1', 'Q_Load2', 'Q_Load3', 'Vnom_Load1', 'Vnom_Load2', 'Vnom_Load3']\ncomplex column names: ['I_Load1', 'I_Load2', 'I_Load3', 'I_line1', 'I_line2', 'I_line3', 'v_node1', 'v_node2', 'v_node3', 'v_node4']\n"
    }
   ],
   "source": [
    "# Set path to file\n",
    "path = 'logs/WSCC-9bus_cosim_extension/'\n",
    "fileName = 'WSCC-9bus_cosim_extension'\n",
    "resultFile = path + fileName + '.csv'\n",
    "\n",
    "# Returns list of timeseries-objects\n",
    "ts_dpsim = rt.read_timeseries_dpsim(resultFile)"
   ]
  },
  {
   "cell_type": "markdown",
   "execution_count": null,
   "metadata": {},
   "outputs": [],
   "source": [
    "### Read DistAIX files"
   ]
  },
  {
   "cell_type": "code",
   "execution_count": 3,
   "metadata": {},
   "outputs": [],
   "source": [
    "# Change file to distaix path\n",
    "fileName = '3_4'\n",
    "resultFile = path + fileName + '.csv'\n",
    "resultFileFitted = path + fileName + '_temp.csv'"
   ]
  },
  {
   "cell_type": "markdown",
   "execution_count": null,
   "metadata": {},
   "outputs": [],
   "source": [
    "As DistAIX uses different headers, those have to be adapted to be used by villas.dataprocessing"
   ]
  },
  {
   "cell_type": "code",
   "execution_count": 4,
   "metadata": {},
   "outputs": [],
   "source": [
    "with open(resultFile, 'r') as inFile, open(resultFileFitted, 'w') as outFile:\n",
    "    read = csv.reader(inFile)\n",
    "    write = csv.writer(outFile)\n",
    "    \n",
    "    new_header = []\n",
    "    row = next(read)\n",
    "\n",
    "    new_header.append('time')\n",
    "    for element in row[1:]:\n",
    "        for idx,char in enumerate(element):\n",
    "            if char is '[':\n",
    "                break\n",
    "        if idx is len(element)-1:\n",
    "            idx += 1\n",
    "        new_header.append(element[:idx].strip())\n",
    "        \n",
    "    write.writerow(new_header)\n",
    "    for row in read:\n",
    "        write.writerow(row)"
   ]
  },
  {
   "cell_type": "code",
   "execution_count": 5,
   "metadata": {},
   "outputs": [
    {
     "name": "stdout",
     "output_type": "stream",
     "text": "column number: 4\nresults length: 100\nreal column names: ['Slosses', 'Srel']\ncomplex column names: ['i1', 'i2']\n"
    }
   ],
   "source": [
    "ts_distaix = rt.read_timeseries_csv(resultFileFitted)\n",
    "os.remove(resultFileFitted)"
   ]
  },
  {
   "cell_type": "markdown",
   "execution_count": null,
   "metadata": {},
   "outputs": [],
   "source": [
    "### Compare the wished timeseries created by DPsim and DistAIX and calculate the error"
   ]
  },
  {
   "cell_type": "code",
   "execution_count": 6,
   "metadata": {},
   "outputs": [
    {
     "name": "stdout",
     "output_type": "stream",
     "text": "(8.162707831641361-4.1466592502669855j)\n"
    },
    {
     "ename": "NameError",
     "evalue": "name 'self' is not defined",
     "output_type": "error",
     "traceback": [
      "\u001b[0;31m---------------------------------------------------------------------------\u001b[0m",
      "\u001b[0;31mNameError\u001b[0m                                 Traceback (most recent call last)",
      "\u001b[0;32m<ipython-input-6-d5133d19859a>\u001b[0m in \u001b[0;36m<module>\u001b[0;34m\u001b[0m\n\u001b[1;32m      5\u001b[0m \u001b[0mprint\u001b[0m\u001b[0;34m(\u001b[0m\u001b[0mrmse\u001b[0m\u001b[0;34m)\u001b[0m\u001b[0;34m\u001b[0m\u001b[0;34m\u001b[0m\u001b[0m\n\u001b[1;32m      6\u001b[0m \u001b[0;34m\u001b[0m\u001b[0m\n\u001b[0;32m----> 7\u001b[0;31m \u001b[0mdiff\u001b[0m \u001b[0;34m=\u001b[0m \u001b[0mts1\u001b[0m\u001b[0;34m.\u001b[0m\u001b[0mdiff\u001b[0m\u001b[0;34m(\u001b[0m\u001b[0;34m'diff'\u001b[0m\u001b[0;34m,\u001b[0m \u001b[0mself\u001b[0m\u001b[0;34m,\u001b[0m \u001b[0mts2\u001b[0m\u001b[0;34m)\u001b[0m\u001b[0;34m\u001b[0m\u001b[0;34m\u001b[0m\u001b[0m\n\u001b[0m\u001b[1;32m      8\u001b[0m \u001b[0mprint\u001b[0m\u001b[0;34m(\u001b[0m\u001b[0mdiff\u001b[0m\u001b[0;34m)\u001b[0m\u001b[0;34m\u001b[0m\u001b[0;34m\u001b[0m\u001b[0m\n\u001b[1;32m      9\u001b[0m \u001b[0;34m\u001b[0m\u001b[0m\n",
      "\u001b[0;31mNameError\u001b[0m: name 'self' is not defined"
     ]
    }
   ],
   "source": [
    "ts1 = ts_dpsim['I_Load2']\n",
    "ts2 = ts_distaix['i2']\n",
    "\n",
    "rmse = ts1.rmse(ts1,ts2)\n",
    "print(rmse)\n",
    "\n",
    "diff = ts1.diff('diff', self, ts2)\n",
    "print(diff)\n",
    "\n",
    "plt.plot(diff.values.real)"
   ]
  },
  {
   "cell_type": "code",
   "execution_count": null,
   "metadata": {},
   "outputs": [],
   "source": []
  }
 ],
 "metadata": {
  "kernelspec": {
   "display_name": "Python 3",
   "language": "python",
   "name": "python3"
  },
  "language_info": {
   "codemirror_mode": {
    "name": "ipython",
    "version": 3
   },
   "file_extension": ".py",
   "mimetype": "text/x-python",
   "name": "python",
   "nbconvert_exporter": "python",
   "pygments_lexer": "ipython3",
   "version": "3.7.5-final"
  }
 },
 "nbformat": 4,
 "nbformat_minor": 4
}