{
 "cells": [
  {
   "cell_type": "markdown",
   "metadata": {},
   "source": [
    "# Case 9 Powerflow Solver Test"
   ]
  },
  {
   "cell_type": "markdown",
   "metadata": {},
   "source": [
    "## Run simulation"
   ]
  },
  {
   "cell_type": "code",
   "execution_count": 6,
   "metadata": {},
   "outputs": [
    {
     "name": "stdout",
     "output_type": "stream",
     "text": [
      "CIMContentHandler: Note: 0 out of 77 tasks remain unresolved!\n",
      "[17:59:40.385666 case9_console info] Opening interfaces.\n",
      "[17:59:40.385693 case9_console info] Start simulation: case9\n",
      "[17:59:40.389032 case9_console info] Simulation finished.\n"
     ]
    },
    {
     "name": "stderr",
     "output_type": "stream",
     "text": [
      "Uninitalized maxQ for GeneratingUnit TN2_T1generatingUnit.Setting default value of 1e+12\n",
      "Uninitalized maxQ for GeneratingUnit TN3_T1generatingUnit.Setting default value of 1e+12\n"
     ]
    }
   ],
   "source": [
    "%%bash\n",
    "TOP=${TOP:-$(git rev-parse --show-toplevel)}\n",
    "PATH=${TOP}/build/Examples/Cxx\n",
    "\n",
    "case9 ${TOP}/Examples/CIM/grid-data/Matpower_cases/case9.xml"
   ]
  },
  {
   "cell_type": "code",
   "execution_count": 7,
   "metadata": {},
   "outputs": [],
   "source": [
    "from villas.dataprocessing.readtools import *\n",
    "from villas.dataprocessing.timeseries import *\n",
    "import villas.dataprocessing.validationtools as validationtools\n",
    "import os\n",
    "import urllib.request"
   ]
  },
  {
   "cell_type": "markdown",
   "metadata": {},
   "source": [
    "## Read DPsim results"
   ]
  },
  {
   "cell_type": "code",
   "execution_count": 8,
   "metadata": {},
   "outputs": [
    {
     "name": "stdout",
     "output_type": "stream",
     "text": [
      "column number: 9\n",
      "results length: 1\n",
      "real column names: []\n",
      "complex column names: ['25ca6936-014d-11ea-a936-0242ac110002.V', '25ca6d59-014d-11ea-ad59-0242ac110002.V', '25ca6eac-014d-11ea-aeac-0242ac110002.V', '25ca6ff4-014d-11ea-aff4-0242ac110002.V', '25ca70d0-014d-11ea-b0d0-0242ac110002.V', '25ca71a8-014d-11ea-b1a8-0242ac110002.V', '25ca727f-014d-11ea-b27f-0242ac110002.V', '25ca7352-014d-11ea-b352-0242ac110002.V', '25ca75a9-014d-11ea-b5a9-0242ac110002.V']\n"
     ]
    }
   ],
   "source": [
    "path = 'logs/'\n",
    "logName = 'case9'\n",
    "dpsim_result_file = path + logName + '.csv'\n",
    "\n",
    "ts_dpsim = read_timeseries_csv(dpsim_result_file)\n",
    "\n",
    "# Fix for dpsim naming - TODO: unify dpsim notation in log file and update villas-dataprocessing accordingly\n",
    "for ts,values in ts_dpsim.items():\n",
    "    values.name = values.name[:-2]"
   ]
  }
 ],
 "metadata": {
  "kernelspec": {
   "display_name": "Python 3",
   "language": "python",
   "name": "python3"
  },
  "language_info": {
   "codemirror_mode": {
    "name": "ipython",
    "version": 3
   },
   "file_extension": ".py",
   "mimetype": "text/x-python",
   "name": "python",
   "nbconvert_exporter": "python",
   "pygments_lexer": "ipython3",
   "version": "3.7.5"
  }
 },
 "nbformat": 4,
 "nbformat_minor": 4
}
