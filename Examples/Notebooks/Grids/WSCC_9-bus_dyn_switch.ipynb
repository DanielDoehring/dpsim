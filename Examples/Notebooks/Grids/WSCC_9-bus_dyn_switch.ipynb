{
 "cells": [
  {
   "cell_type": "markdown",
   "metadata": {},
   "source": [
    "# Dynamic WSCC 9-bus System with Switch"
   ]
  },
  {
   "cell_type": "code",
   "execution_count": null,
   "metadata": {},
   "outputs": [],
   "source": [
    "%%bash\n",
    "TOP=${TOP:-$(git rev-parse --show-toplevel)}\n",
    "PATH=${TOP}/build/Examples/Cxx\n",
    "\n",
    "WSCC-9bus_CIM_Dyn_Switch ${TOP}/Examples/CIM/grid-data/WSCC-09/WSCC-09_RX_Dyn/*.xml"
   ]
  },
  {
   "cell_type": "code",
   "execution_count": null,
   "metadata": {},
   "outputs": [],
   "source": [
    "import villas.dataprocessing.readtools as rt\n",
    "import villas.dataprocessing.plottools as pt\n",
    "from villas.dataprocessing.timeseries import TimeSeries as ts\n",
    "import matplotlib.pyplot as plt"
   ]
  },
  {
   "cell_type": "markdown",
   "metadata": {},
   "source": [
    "## Simulation"
   ]
  },
  {
   "cell_type": "code",
   "execution_count": null,
   "metadata": {},
   "outputs": [],
   "source": [
    "path = 'logs/WSCC-9bus_dyn_switch/'\n",
    "logName = 'WSCC-9bus_dyn_switch'\n",
    "logFilename = path + logName + '.csv'\n",
    "print(logFilename)\n",
    "\n",
    "ts_dpsim = rt.read_timeseries_dpsim(logFilename)\n",
    "phasors = ts.phasors(ts_dpsim)"
   ]
  },
  {
   "cell_type": "markdown",
   "metadata": {},
   "source": [
    "### Phasors at last time step in per unit"
   ]
  },
  {
   "cell_type": "code",
   "execution_count": null,
   "metadata": {},
   "outputs": [],
   "source": [
    "nominal_voltages = {'v1': 16500, 'v2': 18000, 'v3': 13800, \n",
    "                         'v4': 230000, 'v5': 230000, 'v6': 230000, \n",
    "                         'v7': 230000, 'v8': 230000, 'v9': 230000} \n",
    "for node, nom_voltage in nominal_voltages.items():\n",
    "    print(node + ': ' + str(phasors[node]['abs'].values[0] / nom_voltage) + '<' + str(phasors[node]['phase'].values[0]))"
   ]
  },
  {
   "cell_type": "markdown",
   "metadata": {},
   "source": [
    "### Plot node voltages"
   ]
  },
  {
   "cell_type": "code",
   "execution_count": null,
   "metadata": {},
   "outputs": [],
   "source": [
    "plt.plot(phasors['v1']['abs'].time, phasors['v1']['abs'].values)\n",
    "plt.plot(phasors['v2']['abs'].time, phasors['v2']['abs'].values)\n",
    "plt.plot(phasors['v3']['abs'].time, phasors['v3']['abs'].values)\n",
    "plt.ylim([0,20000])\n",
    "\n",
    "plt.figure()\n",
    "plt.plot(phasors['v4']['abs'].time, phasors['v4']['abs'].values)\n",
    "plt.plot(phasors['v5']['abs'].time, phasors['v5']['abs'].values)\n",
    "plt.plot(phasors['v6']['abs'].time, phasors['v6']['abs'].values)\n",
    "plt.plot(phasors['v7']['abs'].time, phasors['v7']['abs'].values)\n",
    "plt.plot(phasors['v8']['abs'].time, phasors['v8']['abs'].values)\n",
    "plt.plot(phasors['v9']['abs'].time, phasors['v9']['abs'].values)\n",
    "plt.ylim([0,240000])"
   ]
  },
  {
   "cell_type": "markdown",
   "metadata": {},
   "source": [
    "### Generator Speed"
   ]
  },
  {
   "cell_type": "code",
   "execution_count": null,
   "metadata": {},
   "outputs": [],
   "source": [
    "plt.plot(ts_dpsim['wr_1'].time, ts_dpsim['wr_1'].values)\n",
    "plt.plot(ts_dpsim['wr_2'].time, ts_dpsim['wr_2'].values)\n",
    "plt.plot(ts_dpsim['wr_3'].time, ts_dpsim['wr_3'].values)\n",
    "plt.xlabel('time (s)')\n",
    "plt.ylabel('mechanical speed (rad/s)')\n",
    "plt.xlim([0,2])\n",
    "#plt.savefig('wscc_9bus_fault_gen_speed.pdf')"
   ]
  },
  {
   "cell_type": "markdown",
   "metadata": {},
   "source": [
    "## Validation"
   ]
  },
  {
   "cell_type": "code",
   "execution_count": null,
   "metadata": {},
   "outputs": [],
   "source": [
    "# read Simulink log file\n",
    "import os\n",
    "import urllib.request\n",
    "\n",
    "if not os.path.exists('reference-results'):\n",
    "    os.mkdir('reference-results')\n",
    "\n",
    "url = 'https://git.rwth-aachen.de/acs/public/simulation/dpsim-results/raw/master/WSCC-9bus/WSCC-9bus_dyn_switch_mod_inertia.csv'\n",
    "local_file = 'reference-results/WSCC-9bus_dyn_switch.csv'\n",
    "urllib.request.urlretrieve(url, local_file) \n",
    "\n",
    "ts_sl = rt.read_timeseries_simulink(local_file)"
   ]
  },
  {
   "cell_type": "code",
   "execution_count": null,
   "metadata": {},
   "outputs": [],
   "source": [
    "import numpy as np\n",
    "assert np.all(ts_sl['wr_1'].values - ts_dpsim['wr_1'].values < 0.001)"
   ]
  },
  {
   "cell_type": "code",
   "execution_count": null,
   "metadata": {},
   "outputs": [],
   "source": []
  }
 ],
 "metadata": {
  "kernelspec": {
   "display_name": "Python 3",
   "language": "python",
   "name": "python3"
  },
  "language_info": {
   "codemirror_mode": {
    "name": "ipython",
    "version": 3
   },
   "file_extension": ".py",
   "mimetype": "text/x-python",
   "name": "python",
   "nbconvert_exporter": "python",
   "pygments_lexer": "ipython3",
   "version": "3.7.5"
  }
 },
 "nbformat": 4,
 "nbformat_minor": 4
}
