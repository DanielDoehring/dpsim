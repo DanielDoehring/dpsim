{
 "cells": [
  {
   "cell_type": "markdown",
   "metadata": {},
   "source": [
    "# Case 9 Powerflow Solver Test"
   ]
  },
  {
   "cell_type": "markdown",
   "metadata": {},
   "source": [
    "## Run simulation"
   ]
  },
  {
   "cell_type": "code",
   "execution_count": 6,
   "metadata": {},
   "outputs": [
    {
     "name": "stdout",
     "output_type": "stream",
     "text": [
      "CIMContentHandler: Note: 0 out of 179 tasks remain unresolved!\n",
      "[18:01:04.567665 case14_console info] Opening interfaces.\n",
      "[18:01:04.567691 case14_console info] Start simulation: case14\n",
      "[18:01:04.573343 case14_console info] Simulation finished.\n"
     ]
    },
    {
     "name": "stderr",
     "output_type": "stream",
     "text": [
      "Uninitalized maxQ for GeneratingUnit TN2_T1generatingUnit.Setting default value of 1e+12\n",
      "Uninitalized maxQ for GeneratingUnit TN3_T1generatingUnit.Setting default value of 1e+12\n",
      "Uninitalized maxQ for GeneratingUnit TN6_T1generatingUnit.Setting default value of 1e+12\n",
      "Uninitalized maxQ for GeneratingUnit TN8_T1generatingUnit.Setting default value of 1e+12\n"
     ]
    }
   ],
   "source": [
    "%%bash\n",
    "TOP=${TOP:-$(git rev-parse --show-toplevel)}\n",
    "PATH=${TOP}/build/Examples/Cxx\n",
    "\n",
    "case14 ${TOP}/Examples/CIM/grid-data/Matpower_cases/case14.xml"
   ]
  },
  {
   "cell_type": "code",
   "execution_count": 7,
   "metadata": {},
   "outputs": [],
   "source": [
    "from villas.dataprocessing.readtools import *\n",
    "from villas.dataprocessing.timeseries import *\n",
    "import villas.dataprocessing.validationtools as validationtools\n",
    "import os\n",
    "import urllib.request"
   ]
  },
  {
   "cell_type": "markdown",
   "metadata": {},
   "source": [
    "## Read DPsim results"
   ]
  },
  {
   "cell_type": "code",
   "execution_count": 8,
   "metadata": {},
   "outputs": [
    {
     "name": "stdout",
     "output_type": "stream",
     "text": [
      "column number: 14\n",
      "results length: 1\n",
      "real column names: []\n",
      "complex column names: ['2a2369a3-014d-11ea-a9a3-0242ac110002.V', '2a236ceb-014d-11ea-aceb-0242ac110002.V', '2a236ed3-014d-11ea-aed3-0242ac110002.V', '2a2370b1-014d-11ea-b0b1-0242ac110002.V', '2a23719f-014d-11ea-b19f-0242ac110002.V', '2a23728c-014d-11ea-b28c-0242ac110002.V', '2a23746c-014d-11ea-b46c-0242ac110002.V', '2a237556-014d-11ea-b556-0242ac110002.V', '2a2376bc-014d-11ea-b6bc-0242ac110002.V', '2a237821-014d-11ea-b821-0242ac110002.V', '2a237911-014d-11ea-b911-0242ac110002.V', '2a2379fd-014d-11ea-b9fd-0242ac110002.V', '2a237aee-014d-11ea-baee-0242ac110002.V', '2a237bd8-014d-11ea-bbd8-0242ac110002.V']\n"
     ]
    }
   ],
   "source": [
    "path = 'logs/'\n",
    "logName = 'case14'\n",
    "dpsim_result_file = path + logName + '.csv'\n",
    "\n",
    "ts_dpsim = read_timeseries_csv(dpsim_result_file)\n",
    "\n",
    "# Fix for dpsim naming - TODO: unify dpsim notation in log file and update villas-dataprocessing accordingly\n",
    "for ts,values in ts_dpsim.items():\n",
    "    values.name = values.name[:-2]"
   ]
  }
 ],
 "metadata": {
  "kernelspec": {
   "display_name": "Python 3",
   "language": "python",
   "name": "python3"
  },
  "language_info": {
   "codemirror_mode": {
    "name": "ipython",
    "version": 3
   },
   "file_extension": ".py",
   "mimetype": "text/x-python",
   "name": "python",
   "nbconvert_exporter": "python",
   "pygments_lexer": "ipython3",
   "version": "3.7.5"
  }
 },
 "nbformat": 4,
 "nbformat_minor": 4
}
