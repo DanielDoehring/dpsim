{
 "cells": [
  {
   "cell_type": "markdown",
   "metadata": {},
   "source": [
    "# Dynamic WSCC 9-bus System with Switch Event"
   ]
  },
  {
   "cell_type": "markdown",
   "metadata": {},
   "source": [
    "**Authors**:\n",
    " - Markus Mirz <mmirz@eonerc.rwth-aachen.de>\n",
    " - Steffen Vogel <stvogel@eoner.rwth-aachen.de>\n",
    "\n",
    "This Jupyter Notebook shows a simple dynamic phasor simulation of the WSCC-9bus benchmark model.\n",
    "The grid data is loaded from CIM-XML files, while simulation results are stored in CSV files and plotted via Matplotlib"
   ]
  },
  {
   "cell_type": "code",
   "execution_count": null,
   "metadata": {},
   "outputs": [],
   "source": [
    "%gui asyncio\n",
    "#%matplotlib widget\n",
    "\n",
    "import dpsim\n",
    "from dpsim.Event import Event\n",
    "import glob\n",
    "import asyncio\n",
    "import matplotlib.pyplot as plt"
   ]
  },
  {
   "cell_type": "markdown",
   "metadata": {},
   "source": [
    "### Loading Grid Topology from CIM-XML Model"
   ]
  },
  {
   "cell_type": "code",
   "execution_count": null,
   "metadata": {},
   "outputs": [],
   "source": [
    "name = 'WSCC-9bus_dyn_switch'\n",
    "files = glob.glob('../../CIM/grid-data/WSCC-09/WSCC-09_RX_Dyn/*.xml') + \\\n",
    "        glob.glob('Examples/CIM/grid-data/WSCC-09/WSCC-09_RX_Dyn/*.xml')\n",
    "print(files)\n",
    "system = dpsim.load_cim(name, files, frequency=60)"
   ]
  },
  {
   "cell_type": "markdown",
   "metadata": {},
   "source": [
    "### Rending Network Topology via Graphiz/SVG\n",
    "\n",
    "We use Graphviz to render the network model into a layouted SVG figure"
   ]
  },
  {
   "cell_type": "code",
   "execution_count": null,
   "metadata": {},
   "outputs": [],
   "source": [
    "system"
   ]
  },
  {
   "cell_type": "markdown",
   "metadata": {},
   "source": [
    "### Extending Network with Switch and Load"
   ]
  },
  {
   "cell_type": "markdown",
   "metadata": {},
   "source": [
    "Here we add a new switch to Bus 9 that is triggered at 0.05s. This component could be added permantely to the CIM model as well using tools like Pintura."
   ]
  },
  {
   "cell_type": "code",
   "execution_count": null,
   "metadata": {},
   "outputs": [],
   "source": [
    "## Switch\n",
    "sw = dpsim.dp.ph1.Switch(\"Switch\")\n",
    "sw.R_open = 1e9\n",
    "sw.R_closed = 0.1\n",
    "sw.is_closed = False\n",
    "\n",
    "## Load\n",
    "load = dpsim.dp.ph1.PQLoadCS(\"Switched Load\")\n",
    "load.V_nom = 230950\n",
    "load.P = 30000000\n",
    "load.Q = 0\n",
    "\n",
    "## Topology\n",
    "bus9 = system.nodes[\"BUS6\"]\n",
    "gnd = dpsim.dp.Node.GND()\n",
    "\n",
    "sw.connect([ bus9, gnd ])\n",
    "\n",
    "system.add_component(sw)"
   ]
  },
  {
   "cell_type": "code",
   "execution_count": null,
   "metadata": {},
   "outputs": [],
   "source": [
    "system"
   ]
  },
  {
   "cell_type": "markdown",
   "metadata": {},
   "source": [
    "### Running Simulation\n",
    "\n",
    "The actual simulation is done by the C++ DPsim solver. Python is just used for configuration, scripting and analysis"
   ]
  },
  {
   "cell_type": "code",
   "execution_count": null,
   "metadata": {},
   "outputs": [],
   "source": [
    "sim = dpsim.Simulation(name, system, timestep=0.0001, duration=2, init_steady_state=True, pbar=True)\n",
    "\n",
    "#system.components['GEN3'].inertia *= 2\n",
    "sw.is_closed = False\n",
    "sim.add_event(0.2, sw, 'is_closed', True)\n",
    "\n",
    "logger = dpsim.Logger(name)\n",
    "sim.add_logger(logger)\n",
    "for i in range(1,4):\n",
    "\tlogger.log_attribute(system.components['GEN%d' % i], 'w_r')\n",
    "\n",
    "for node in system.nodes:\n",
    "\tlogger.log_attribute(system.nodes[node], 'v')\n",
    "\n",
    "sim.start()"
   ]
  },
  {
   "cell_type": "markdown",
   "metadata": {},
   "source": [
    "## Analysis\n",
    "\n",
    "### Read log files and list all column names"
   ]
  },
  {
   "cell_type": "code",
   "execution_count": null,
   "metadata": {},
   "outputs": [],
   "source": [
    "import matplotlib.pyplot as plt\n",
    "import villas.dataprocessing.plottools as pt\n",
    "import villas.dataprocessing.readtools as rt\n",
    "from villas.dataprocessing.timeseries import TimeSeries as ts\n",
    "import numpy as np\n",
    "\n",
    "res = rt.read_timeseries_dpsim('logs/WSCC-9bus_dyn_switch.csv')"
   ]
  },
  {
   "cell_type": "markdown",
   "metadata": {},
   "source": [
    "### Phasors at first time step"
   ]
  },
  {
   "cell_type": "code",
   "execution_count": null,
   "metadata": {},
   "outputs": [],
   "source": [
    "phasors = ts.phasors(res)\n",
    "for node, phasor in phasors.items():\n",
    "    if 'v' in node:\n",
    "        print(node + ': ' + str(phasor['abs'].values[0]) + '<' + str(phasor['phase'].values[0]))"
   ]
  },
  {
   "cell_type": "markdown",
   "metadata": {},
   "source": [
    "### Phasors at last time step"
   ]
  },
  {
   "cell_type": "code",
   "execution_count": null,
   "metadata": {},
   "outputs": [],
   "source": [
    "for node, phasor in phasors.items():\n",
    "    if 'v' in node:\n",
    "        print(node + ': ' + str(phasor['abs'].values[-1]) + '<' + str(phasor['phase'].values[-1]))"
   ]
  },
  {
   "cell_type": "markdown",
   "metadata": {},
   "source": [
    "### Phasors at last time step in per unit"
   ]
  },
  {
   "cell_type": "code",
   "execution_count": null,
   "metadata": {},
   "outputs": [],
   "source": [
    "nominal_voltages = {\n",
    "    'BUS1.v': 16.5e3,\n",
    "    'BUS2.v': 18e3,\n",
    "    'BUS3.v': 13.8e3, \n",
    "    'BUS4.v': 230e3,\n",
    "    'BUS5.v': 230e3,\n",
    "    'BUS6.v': 230e3, \n",
    "    'BUS7.v': 230e3,\n",
    "    'BUS8.v': 230e3,\n",
    "    'BUS9.v': 230e3\n",
    "}\n",
    "\n",
    "plt.figure(1)\n",
    "for node, nom_voltage in nominal_voltages.items():\n",
    "    mag = phasors[node]['abs'].values[0] / nom_voltage\n",
    "    pha = phasors[node]['phase'].values[0]\n",
    "    print(node + ': ' + str(mag) + '<' + str(pha))\n",
    "    plt.polar([0, pha / 180 * np.pi], [0, mag], marker='o', label=node)\n",
    "plt.show()"
   ]
  },
  {
   "cell_type": "markdown",
   "metadata": {},
   "source": [
    "### Plot node phases"
   ]
  },
  {
   "cell_type": "code",
   "execution_count": null,
   "metadata": {},
   "outputs": [],
   "source": [
    "for i in range(1,9):\n",
    "    pt.plot_timeseries(20, phasors['BUS%d.v' % i]['phase'])"
   ]
  },
  {
   "cell_type": "markdown",
   "metadata": {},
   "source": [
    "### Plot node voltages"
   ]
  },
  {
   "cell_type": "code",
   "execution_count": null,
   "metadata": {},
   "outputs": [],
   "source": [
    "for i in range(4,9):\n",
    "    pt.plot_timeseries(10, phasors['BUS%d.v' % i]['abs'])\n",
    "for i in range(1,4):\n",
    "    pt.plot_timeseries(11, phasors['BUS%d.v' % i]['abs'])\n",
    "plt.xlim(0.0, 0.06)"
   ]
  },
  {
   "cell_type": "code",
   "execution_count": null,
   "metadata": {},
   "outputs": [],
   "source": [
    "res['GEN1.w_r'].label = 'GEN1 wr'\n",
    "res['GEN2.w_r'].label = 'GEN2 wr'\n",
    "res['GEN3.w_r'].label = 'GEN3 wr'\n",
    "pt.plot_timeseries(1, res['GEN1.w_r'])\n",
    "pt.plot_timeseries(1, res['GEN2.w_r'])\n",
    "pt.plot_timeseries(1, res['GEN3.w_r'])\n",
    "plt.xlabel('time (s)')\n",
    "plt.ylabel('mechanical speed (rad/s)')"
   ]
  },
  {
   "cell_type": "markdown",
   "metadata": {},
   "source": [
    "## Validation"
   ]
  },
  {
   "cell_type": "code",
   "execution_count": null,
   "metadata": {},
   "outputs": [],
   "source": [
    "# read Simulink log file\n",
    "import os\n",
    "import urllib.request\n",
    "\n",
    "if not os.path.exists('reference-results'):\n",
    "    os.mkdir('reference-results')\n",
    "\n",
    "url = 'https://git.rwth-aachen.de/acs/public/simulation/dpsim-results/raw/master/WSCC-9bus/WSCC-9bus_dyn_switch.csv'\n",
    "local_file = 'reference-results/WSCC-9bus_dyn_switch.csv'\n",
    "urllib.request.urlretrieve(url, local_file) \n",
    "\n",
    "ts_sl = rt.read_timeseries_simulink(local_file)"
   ]
  },
  {
   "cell_type": "code",
   "execution_count": null,
   "metadata": {},
   "outputs": [],
   "source": [
    "import numpy as np\n",
    "assert np.all(ts_sl['GEN1.w_r'].values - res['GEN1.w_r'].values < 0.001)"
   ]
  },
  {
   "cell_type": "code",
   "execution_count": null,
   "metadata": {},
   "outputs": [],
   "source": []
  }
 ],
 "metadata": {
  "kernelspec": {
   "display_name": "Python 3",
   "language": "python",
   "name": "python3"
  },
  "language_info": {
   "codemirror_mode": {
    "name": "ipython",
    "version": 3
   },
   "file_extension": ".py",
   "mimetype": "text/x-python",
   "name": "python",
   "nbconvert_exporter": "python",
   "pygments_lexer": "ipython3",
   "version": "3.7.5"
  },
  "tests": {
   "skip": true
  }
 },
 "nbformat": 4,
 "nbformat_minor": 4
}
