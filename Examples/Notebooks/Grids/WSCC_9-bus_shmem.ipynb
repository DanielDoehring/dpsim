{
 "cells": [
  {
   "cell_type": "markdown",
   "metadata": {},
   "source": [
    "# WSCC 9-bus System Tests"
   ]
  },
  {
   "cell_type": "markdown",
   "metadata": {},
   "source": [
    "## Monolithic Simulation"
   ]
  },
  {
   "cell_type": "code",
   "execution_count": null,
   "metadata": {},
   "outputs": [],
   "source": [
    "from villas.dataprocessing.dpsim import *\n",
    "from villas.dataprocessing.plottools import *"
   ]
  },
  {
   "cell_type": "markdown",
   "metadata": {},
   "source": [
    "### Read log files and list all column names"
   ]
  },
  {
   "cell_type": "code",
   "execution_count": null,
   "metadata": {},
   "outputs": [],
   "source": [
    "path_orig = '../dpsim/Logs/'\n",
    "logName_orig = 'WSCC-9bus_LeftVector'\n",
    "logFilename_orig = path_orig + logName_orig + '.csv'\n",
    "print(logFilename_orig)\n",
    "\n",
    "ts_dpsim_orig = read_timeseries_dpsim(logFilename_orig)"
   ]
  },
  {
   "cell_type": "markdown",
   "metadata": {},
   "source": [
    "### Phasors at first time step"
   ]
  },
  {
   "cell_type": "code",
   "execution_count": null,
   "metadata": {},
   "outputs": [],
   "source": [
    "phasors_orig = get_node_voltage_phasors(ts_dpsim_orig)\n",
    "for node, phasor in phasors_orig.items():\n",
    "    print(node + ': ' + str(phasor['abs'].values[0]) + '<' + str(phasor['phase'].values[0]))"
   ]
  },
  {
   "cell_type": "markdown",
   "metadata": {},
   "source": [
    "### Phasors at last time step"
   ]
  },
  {
   "cell_type": "code",
   "execution_count": null,
   "metadata": {},
   "outputs": [],
   "source": [
    "for node, phasor in phasors_orig.items():\n",
    "    print(node + ': ' + str(phasor['abs'].values[-1]) + '<' + str(phasor['phase'].values[-1]))"
   ]
  },
  {
   "cell_type": "markdown",
   "metadata": {},
   "source": [
    "### Phasors at last time step in per unit"
   ]
  },
  {
   "cell_type": "code",
   "execution_count": null,
   "metadata": {},
   "outputs": [],
   "source": [
    "nominal_voltages_orig = {'node00000': 18000, 'node00001': 230000, 'node00002': 230000, \n",
    "                         'node00003': 230000, 'node00004': 16500, 'node00005': 230000, \n",
    "                         'node00006': 230000, 'node00007': 230000, 'node00008': 13800}\n",
    "for node, nom_voltage in nominal_voltages_orig.items():\n",
    "    print(node + ': ' + str(phasors_orig[node]['abs'].values[0] / nom_voltage) + '<' + str(phasors_orig[node]['phase'].values[0]))"
   ]
  },
  {
   "cell_type": "markdown",
   "metadata": {},
   "source": [
    "### Plot node phase\n",
    "The phase at node 8 is not initialized properly since the CIM load flow data is not accurate. Therefore, the steady-state initialization implemented in the MNA solver is executed first so that the initial phase at t=0 is already very close to the correct one.\n",
    "Using PI-lines with parallel impedances to ground not only during the initialization but also the simulation or more accurate CIM load flow results would probably further improve the results because the values around n8 have still not converged completely."
   ]
  },
  {
   "cell_type": "code",
   "execution_count": null,
   "metadata": {},
   "outputs": [],
   "source": [
    "plot_timeseries(1, phasors_orig['node00007']['phase'])"
   ]
  },
  {
   "cell_type": "markdown",
   "metadata": {},
   "source": [
    "### Plot node voltages"
   ]
  },
  {
   "cell_type": "code",
   "execution_count": null,
   "metadata": {},
   "outputs": [],
   "source": [
    "plot_timeseries(2, phasors_orig['node00001']['abs'])\n",
    "plot_timeseries(2, phasors_orig['node00002']['abs'])\n",
    "plot_timeseries(2, phasors_orig['node00003']['abs'])\n",
    "plot_timeseries(2, phasors_orig['node00005']['abs'])\n",
    "plot_timeseries(2, phasors_orig['node00006']['abs'])\n",
    "plot_timeseries(2, phasors_orig['node00007']['abs'])\n",
    "plt.gca().axes.set_ylim([200000,240000])"
   ]
  },
  {
   "cell_type": "markdown",
   "metadata": {},
   "source": [
    "The results for n2 are very good."
   ]
  },
  {
   "cell_type": "code",
   "execution_count": null,
   "metadata": {},
   "outputs": [],
   "source": [
    "plot_timeseries(2, phasors_orig['node00001']['abs'])\n",
    "plt.gca().axes.set_ylim([229300,229500])"
   ]
  },
  {
   "cell_type": "markdown",
   "metadata": {},
   "source": [
    "## Shmem Simulation"
   ]
  },
  {
   "cell_type": "code",
   "execution_count": null,
   "metadata": {},
   "outputs": [],
   "source": [
    "from villas.dataprocessing.dpsim import *\n",
    "from villas.dataprocessing.plottools import *"
   ]
  },
  {
   "cell_type": "markdown",
   "metadata": {},
   "source": [
    "### Read log files and list all column names"
   ]
  },
  {
   "cell_type": "code",
   "execution_count": null,
   "metadata": {},
   "outputs": [],
   "source": [
    "path_shmem = 'D:/mmi/git/Simulation/dpsim/build/Logs/'\n",
    "logName_shmem = 'Shmem_WSCC-9bus_LeftVector'\n",
    "logFilename_shmem = path_shmem + logName_shmem + '.csv'\n",
    "print(logFilename_shmem)\n",
    "\n",
    "ts_dpsim_shmem = read_timeseries_dpsim_cmpl(logFilename_shmem)"
   ]
  },
  {
   "cell_type": "markdown",
   "metadata": {},
   "source": [
    "### Phasors at first time step"
   ]
  },
  {
   "cell_type": "code",
   "execution_count": null,
   "metadata": {},
   "outputs": [],
   "source": [
    "phasors_shmem = get_node_voltage_phasors(ts_dpsim_shmem)\n",
    "for node, phasor in phasors_shmem.items():\n",
    "    print(node + ': ' + str(phasor['abs'].values[0]) + '<' + str(phasor['phase'].values[0]))"
   ]
  },
  {
   "cell_type": "markdown",
   "metadata": {},
   "source": [
    "### Phasors at last time step"
   ]
  },
  {
   "cell_type": "code",
   "execution_count": null,
   "metadata": {},
   "outputs": [],
   "source": [
    "for node, phasor in phasors_shmem.items():\n",
    "    print(node + ': ' + str(phasor['abs'].values[-1]) + '<' + str(phasor['phase'].values[-1]))"
   ]
  },
  {
   "cell_type": "markdown",
   "metadata": {},
   "source": [
    "### Phasors at last time step in per unit"
   ]
  },
  {
   "cell_type": "code",
   "execution_count": null,
   "metadata": {},
   "outputs": [],
   "source": [
    "nominal_voltages_shmem = {'n1': 18000, 'n2': 230000, 'n3': 230000, 'n4': 230000, 'n5': 16500, 'n6': 230000, 'n7': 230000, 'n8': 230000, 'n9': 13800}\n",
    "for node, nom_voltage in nominal_voltages_shmem.items():\n",
    "    print(node + ': ' + str(phasors_shmem[node]['abs'].values[0] / nom_voltage) + '<' + str(phasors_shmem[node]['phase'].values[0]))"
   ]
  },
  {
   "cell_type": "markdown",
   "metadata": {},
   "source": [
    "### Plot node voltages"
   ]
  },
  {
   "cell_type": "code",
   "execution_count": null,
   "metadata": {},
   "outputs": [],
   "source": [
    "plot_timeseries(2, phasors_shmem['n2']['abs'])\n",
    "plot_timeseries(2, phasors_shmem['n3']['abs'])\n",
    "plot_timeseries(2, phasors_shmem['n4']['abs'])\n",
    "plot_timeseries(2, phasors_shmem['n6']['abs'])\n",
    "plot_timeseries(2, phasors_shmem['n7']['abs'])\n",
    "plot_timeseries(2, phasors_shmem['n8']['abs'])\n",
    "plot_timeseries(2, phasors_shmem['n2']['abs'])\n",
    "plt.gca().axes.set_ylim([200000,240000])"
   ]
  },
  {
   "cell_type": "markdown",
   "metadata": {},
   "source": [
    "## Shmem Controlled Load Simulation"
   ]
  },
  {
   "cell_type": "code",
   "execution_count": null,
   "metadata": {},
   "outputs": [],
   "source": [
    "from villas.dataprocessing.dpsim import *\n",
    "from villas.dataprocessing.plottools import *"
   ]
  },
  {
   "cell_type": "markdown",
   "metadata": {},
   "source": [
    "### Read log files and list all column names"
   ]
  },
  {
   "cell_type": "code",
   "execution_count": null,
   "metadata": {},
   "outputs": [],
   "source": [
    "path_ctrl = 'D:/mmi/git/Simulation/dpsim/build/Logs/'\n",
    "logName_ctrl = 'Shmem_WSCC-9bus_Ctrl_LeftVector'\n",
    "logFilename_ctrl = path_ctrl + logName_ctrl + '.csv'\n",
    "print(logFilename_ctrl)\n",
    "\n",
    "ts_dpsim_ctrl = read_timeseries_dpsim_cmpl(logFilename_ctrl)"
   ]
  },
  {
   "cell_type": "markdown",
   "metadata": {},
   "source": [
    "### Phasors at first time step"
   ]
  },
  {
   "cell_type": "code",
   "execution_count": null,
   "metadata": {},
   "outputs": [],
   "source": [
    "phasors_ctrl = get_node_voltage_phasors(ts_dpsim_ctrl)\n",
    "for node, phasor in phasors_ctrl.items():\n",
    "    print(node + ': ' + str(phasor['abs'].values[0]) + '<' + str(phasor['phase'].values[0]))"
   ]
  },
  {
   "cell_type": "markdown",
   "metadata": {},
   "source": [
    "### Phasors at last time step"
   ]
  },
  {
   "cell_type": "code",
   "execution_count": null,
   "metadata": {},
   "outputs": [],
   "source": [
    "for node, phasor in phasors_ctrl.items():\n",
    "    print(node + ': ' + str(phasor['abs'].values[-1]) + '<' + str(phasor['phase'].values[-1]))"
   ]
  },
  {
   "cell_type": "markdown",
   "metadata": {},
   "source": [
    "### Phasors at last time step in per unit"
   ]
  },
  {
   "cell_type": "code",
   "execution_count": null,
   "metadata": {},
   "outputs": [],
   "source": [
    "nominal_voltages_ctrl = {'n1': 18000, 'n2': 230000, 'n3': 230000, 'n4': 230000, 'n5': 16500, 'n6': 230000, 'n7': 230000, 'n8': 230000, 'n9': 13800}\n",
    "for node, nom_voltage in nominal_voltages_ctrl.items():\n",
    "    print(node + ': ' + str(phasors_ctrl[node]['abs'].values[0] / nom_voltage) + '<' + str(phasors_ctrl[node]['phase'].values[0]))"
   ]
  },
  {
   "cell_type": "markdown",
   "metadata": {},
   "source": [
    "### Plot node voltages"
   ]
  },
  {
   "cell_type": "code",
   "execution_count": null,
   "metadata": {},
   "outputs": [],
   "source": [
    "plot_timeseries(2, phasors_ctrl['n2']['abs'])\n",
    "plot_timeseries(2, phasors_ctrl['n3']['abs'])\n",
    "plot_timeseries(2, phasors_ctrl['n4']['abs'])\n",
    "plot_timeseries(2, phasors_ctrl['n6']['abs'])\n",
    "plot_timeseries(2, phasors_ctrl['n7']['abs'])\n",
    "plot_timeseries(2, phasors_ctrl['n8']['abs'])\n",
    "plt.gca().axes.set_ylim([210000,235000])\n",
    "#plt.gca().axes.set_xlim([7.28,7.3])"
   ]
  },
  {
   "cell_type": "markdown",
   "metadata": {},
   "source": [
    "Plot original data without controlled load."
   ]
  },
  {
   "cell_type": "code",
   "execution_count": null,
   "metadata": {},
   "outputs": [],
   "source": [
    "plot_timeseries(2, phasors_orig['n2']['abs'])\n",
    "plot_timeseries(2, phasors_orig['n3']['abs'])\n",
    "plot_timeseries(2, phasors_orig['n4']['abs'])\n",
    "plot_timeseries(2, phasors_orig['n6']['abs'])\n",
    "plot_timeseries(2, phasors_orig['n7']['abs'])\n",
    "plot_timeseries(2, phasors_orig['n8']['abs'])\n",
    "plt.gca().axes.set_ylim([200000,240000])"
   ]
  },
  {
   "cell_type": "code",
   "execution_count": null,
   "metadata": {},
   "outputs": [],
   "source": []
  }
 ],
 "metadata": {
  "kernelspec": {
   "display_name": "Python 3",
   "language": "python",
   "name": "python3"
  },
  "language_info": {
   "codemirror_mode": {
    "name": "ipython",
    "version": 3
   },
   "file_extension": ".py",
   "mimetype": "text/x-python",
   "name": "python",
   "nbconvert_exporter": "python",
   "pygments_lexer": "ipython3",
   "version": "3.7.5"
  },
  "tests": {
   "skip": true
  }
 },
 "nbformat": 4,
 "nbformat_minor": 4
}
