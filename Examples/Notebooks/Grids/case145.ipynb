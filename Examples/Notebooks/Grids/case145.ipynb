{
 "cells": [
  {
   "cell_type": "markdown",
   "metadata": {},
   "source": [
    "# Case 9 Powerflow Solver Test"
   ]
  },
  {
   "cell_type": "markdown",
   "metadata": {},
   "source": [
    "## Run simulation"
   ]
  },
  {
   "cell_type": "code",
   "execution_count": 1,
   "metadata": {},
   "outputs": [
    {
     "name": "stdout",
     "output_type": "stream",
     "text": [
      "CIMContentHandler: Note: 0 out of 3564 tasks remain unresolved!\n",
      "[18:02:05.173637 case145_console info] Opening interfaces.\n",
      "[18:02:05.173666 case145_console info] Start simulation: case145\n",
      "[18:02:05.382654 case145_console info] Simulation finished.\n"
     ]
    },
    {
     "name": "stderr",
     "output_type": "stream",
     "text": [
      "Uninitalized maxQ for GeneratingUnit TN60_T2generatingUnit.Setting default value of 1e+12\n",
      "Uninitalized maxQ for GeneratingUnit TN67_T2generatingUnit.Setting default value of 1e+12\n",
      "Uninitalized maxQ for GeneratingUnit TN79_T2generatingUnit.Setting default value of 1e+12\n",
      "Uninitalized maxQ for GeneratingUnit TN80_T2generatingUnit.Setting default value of 1e+12\n",
      "Uninitalized maxQ for GeneratingUnit TN82_T2generatingUnit.Setting default value of 1e+12\n",
      "Uninitalized maxQ for GeneratingUnit TN89_T2generatingUnit.Setting default value of 1e+12\n",
      "Uninitalized maxQ for GeneratingUnit TN90_T2generatingUnit.Setting default value of 1e+12\n",
      "Uninitalized maxQ for GeneratingUnit TN91_T2generatingUnit.Setting default value of 1e+12\n",
      "Uninitalized maxQ for GeneratingUnit TN93_T1generatingUnit.Setting default value of 1e+12\n",
      "Uninitalized maxQ for GeneratingUnit TN94_T2generatingUnit.Setting default value of 1e+12\n",
      "Uninitalized maxQ for GeneratingUnit TN95_T2generatingUnit.Setting default value of 1e+12\n",
      "Uninitalized maxQ for GeneratingUnit TN96_T2generatingUnit.Setting default value of 1e+12\n",
      "Uninitalized maxQ for GeneratingUnit TN97_T2generatingUnit.Setting default value of 1e+12\n",
      "Uninitalized maxQ for GeneratingUnit TN98_T2generatingUnit.Setting default value of 1e+12\n",
      "Uninitalized maxQ for GeneratingUnit TN99_T1generatingUnit.Setting default value of 1e+12\n",
      "Uninitalized maxQ for GeneratingUnit TN100_T2generatingUnit.Setting default value of 1e+12\n",
      "Uninitalized maxQ for GeneratingUnit TN101_T2generatingUnit.Setting default value of 1e+12\n",
      "Uninitalized maxQ for GeneratingUnit TN102_T2generatingUnit.Setting default value of 1e+12\n",
      "Uninitalized maxQ for GeneratingUnit TN103_T2generatingUnit.Setting default value of 1e+12\n",
      "Uninitalized maxQ for GeneratingUnit TN104_T1generatingUnit.Setting default value of 1e+12\n",
      "Uninitalized maxQ for GeneratingUnit TN105_T2generatingUnit.Setting default value of 1e+12\n",
      "Uninitalized maxQ for GeneratingUnit TN106_T2generatingUnit.Setting default value of 1e+12\n",
      "Uninitalized maxQ for GeneratingUnit TN108_T2generatingUnit.Setting default value of 1e+12\n",
      "Uninitalized maxQ for GeneratingUnit TN109_T2generatingUnit.Setting default value of 1e+12\n",
      "Uninitalized maxQ for GeneratingUnit TN110_T1generatingUnit.Setting default value of 1e+12\n",
      "Uninitalized maxQ for GeneratingUnit TN111_T2generatingUnit.Setting default value of 1e+12\n",
      "Uninitalized maxQ for GeneratingUnit TN112_T2generatingUnit.Setting default value of 1e+12\n",
      "Uninitalized maxQ for GeneratingUnit TN115_T2generatingUnit.Setting default value of 1e+12\n",
      "Uninitalized maxQ for GeneratingUnit TN116_T2generatingUnit.Setting default value of 1e+12\n",
      "Uninitalized maxQ for GeneratingUnit TN117_T2generatingUnit.Setting default value of 1e+12\n",
      "Uninitalized maxQ for GeneratingUnit TN118_T2generatingUnit.Setting default value of 1e+12\n",
      "Uninitalized maxQ for GeneratingUnit TN119_T2generatingUnit.Setting default value of 1e+12\n",
      "Uninitalized maxQ for GeneratingUnit TN121_T2generatingUnit.Setting default value of 1e+12\n",
      "Uninitalized maxQ for GeneratingUnit TN122_T2generatingUnit.Setting default value of 1e+12\n",
      "Uninitalized maxQ for GeneratingUnit TN124_T2generatingUnit.Setting default value of 1e+12\n",
      "Uninitalized maxQ for GeneratingUnit TN128_T2generatingUnit.Setting default value of 1e+12\n",
      "Uninitalized maxQ for GeneratingUnit TN130_T2generatingUnit.Setting default value of 1e+12\n",
      "Uninitalized maxQ for GeneratingUnit TN131_T2generatingUnit.Setting default value of 1e+12\n",
      "Uninitalized maxQ for GeneratingUnit TN132_T2generatingUnit.Setting default value of 1e+12\n",
      "Uninitalized maxQ for GeneratingUnit TN134_T2generatingUnit.Setting default value of 1e+12\n",
      "Uninitalized maxQ for GeneratingUnit TN135_T2generatingUnit.Setting default value of 1e+12\n",
      "Uninitalized maxQ for GeneratingUnit TN136_T2generatingUnit.Setting default value of 1e+12\n",
      "Uninitalized maxQ for GeneratingUnit TN137_T2generatingUnit.Setting default value of 1e+12\n",
      "Uninitalized maxQ for GeneratingUnit TN139_T2generatingUnit.Setting default value of 1e+12\n",
      "Uninitalized maxQ for GeneratingUnit TN140_T2generatingUnit.Setting default value of 1e+12\n",
      "Uninitalized maxQ for GeneratingUnit TN141_T2generatingUnit.Setting default value of 1e+12\n",
      "Uninitalized maxQ for GeneratingUnit TN142_T2generatingUnit.Setting default value of 1e+12\n",
      "Uninitalized maxQ for GeneratingUnit TN143_T2generatingUnit.Setting default value of 1e+12\n",
      "Uninitalized maxQ for GeneratingUnit TN144_T2generatingUnit.Setting default value of 1e+12\n",
      "Uninitialized Angle for SVVoltage at TN60.Setting default value of 0\n",
      "Uninitialized Angle for SVVoltage at TN67.Setting default value of 0\n",
      "Uninitialized Angle for SVVoltage at TN79.Setting default value of 0\n",
      "Uninitialized Angle for SVVoltage at TN80.Setting default value of 0\n",
      "Uninitialized Angle for SVVoltage at TN82.Setting default value of 0\n",
      "Uninitialized Angle for SVVoltage at TN89.Setting default value of 0\n",
      "Uninitialized Angle for SVVoltage at TN90.Setting default value of 0\n",
      "Uninitialized Angle for SVVoltage at TN91.Setting default value of 0\n",
      "Uninitialized Angle for SVVoltage at TN93.Setting default value of 0\n",
      "Uninitialized Angle for SVVoltage at TN94.Setting default value of 0\n",
      "Uninitialized Angle for SVVoltage at TN95.Setting default value of 0\n",
      "Uninitialized Angle for SVVoltage at TN96.Setting default value of 0\n",
      "Uninitialized Angle for SVVoltage at TN97.Setting default value of 0\n",
      "Uninitialized Angle for SVVoltage at TN98.Setting default value of 0\n",
      "Uninitialized Angle for SVVoltage at TN99.Setting default value of 0\n",
      "Uninitialized Angle for SVVoltage at TN100.Setting default value of 0\n",
      "Uninitialized Angle for SVVoltage at TN101.Setting default value of 0\n",
      "Uninitialized Angle for SVVoltage at TN102.Setting default value of 0\n",
      "Uninitialized Angle for SVVoltage at TN103.Setting default value of 0\n",
      "Uninitialized Angle for SVVoltage at TN104.Setting default value of 0\n",
      "Uninitialized Angle for SVVoltage at TN105.Setting default value of 0\n",
      "Uninitialized Angle for SVVoltage at TN106.Setting default value of 0\n",
      "Uninitialized Angle for SVVoltage at TN108.Setting default value of 0\n",
      "Uninitialized Angle for SVVoltage at TN109.Setting default value of 0\n",
      "Uninitialized Angle for SVVoltage at TN110.Setting default value of 0\n",
      "Uninitialized Angle for SVVoltage at TN111.Setting default value of 0\n",
      "Uninitialized Angle for SVVoltage at TN112.Setting default value of 0\n",
      "Uninitialized Angle for SVVoltage at TN115.Setting default value of 0\n",
      "Uninitialized Angle for SVVoltage at TN116.Setting default value of 0\n",
      "Uninitialized Angle for SVVoltage at TN117.Setting default value of 0\n",
      "Uninitialized Angle for SVVoltage at TN118.Setting default value of 0\n",
      "Uninitialized Angle for SVVoltage at TN119.Setting default value of 0\n",
      "Uninitialized Angle for SVVoltage at TN121.Setting default value of 0\n",
      "Uninitialized Angle for SVVoltage at TN122.Setting default value of 0\n",
      "Uninitialized Angle for SVVoltage at TN124.Setting default value of 0\n",
      "Uninitialized Angle for SVVoltage at TN128.Setting default value of 0\n",
      "Uninitialized Angle for SVVoltage at TN130.Setting default value of 0\n",
      "Uninitialized Angle for SVVoltage at TN131.Setting default value of 0\n",
      "Uninitialized Angle for SVVoltage at TN132.Setting default value of 0\n",
      "Uninitialized Angle for SVVoltage at TN134.Setting default value of 0\n",
      "Uninitialized Angle for SVVoltage at TN135.Setting default value of 0\n",
      "Uninitialized Angle for SVVoltage at TN136.Setting default value of 0\n",
      "Uninitialized Angle for SVVoltage at TN137.Setting default value of 0\n",
      "Uninitialized Angle for SVVoltage at TN139.Setting default value of 0\n",
      "Uninitialized Angle for SVVoltage at TN140.Setting default value of 0\n",
      "Uninitialized Angle for SVVoltage at TN141.Setting default value of 0\n",
      "Uninitialized Angle for SVVoltage at TN142.Setting default value of 0\n",
      "Uninitialized Angle for SVVoltage at TN143.Setting default value of 0\n",
      "Uninitialized Angle for SVVoltage at TN144.Setting default value of 0\n"
     ]
    }
   ],
   "source": [
    "%%bash\n",
    "TOP=${TOP:-$(git rev-parse --show-toplevel)}\n",
    "PATH=${TOP}/build/Examples/Cxx\n",
    "\n",
    "case145 ${TOP}/Examples/CIM/grid-data/Matpower_cases/case145.xml"
   ]
  },
  {
   "cell_type": "code",
   "execution_count": 2,
   "metadata": {},
   "outputs": [],
   "source": [
    "from villas.dataprocessing.readtools import *\n",
    "from villas.dataprocessing.timeseries import *\n",
    "import villas.dataprocessing.validationtools as validationtools\n",
    "import os\n",
    "import urllib.request"
   ]
  },
  {
   "cell_type": "markdown",
   "metadata": {},
   "source": [
    "## Read DPsim results"
   ]
  },
  {
   "cell_type": "code",
   "execution_count": 3,
   "metadata": {},
   "outputs": [
    {
     "name": "stdout",
     "output_type": "stream",
     "text": [
      "column number: 145\n",
      "results length: 1\n",
      "real column names: []\n",
      "complex column names: ['dfb818f0-025b-11ea-98f0-0242ac110002.V', 'dfb81ce6-025b-11ea-9ce6-0242ac110002.V', 'dfb81df7-025b-11ea-9df7-0242ac110002.V', 'dfb81f72-025b-11ea-9f72-0242ac110002.V', 'dfb8217e-025b-11ea-a17e-0242ac110002.V', 'dfb824fa-025b-11ea-a4fa-0242ac110002.V', 'dfb825fe-025b-11ea-a5fe-0242ac110002.V', 'dfb8289d-025b-11ea-a89d-0242ac110002.V', 'dfb829cf-025b-11ea-a9cf-0242ac110002.V', 'dfb82ae2-025b-11ea-aae2-0242ac110002.V', 'dfb82d6a-025b-11ea-ad6a-0242ac110002.V', 'dfb82e7d-025b-11ea-ae7d-0242ac110002.V', 'dfb830fd-025b-11ea-b0fd-0242ac110002.V', 'dfb8324e-025b-11ea-b24e-0242ac110002.V', 'dfb83361-025b-11ea-b361-0242ac110002.V', 'dfb834d7-025b-11ea-b4d7-0242ac110002.V', 'dfb8364c-025b-11ea-b64c-0242ac110002.V', 'dfb837c6-025b-11ea-b7c6-0242ac110002.V', 'dfb83940-025b-11ea-b940-0242ac110002.V', 'dfb83ab6-025b-11ea-bab6-0242ac110002.V', 'dfb83bc5-025b-11ea-bbc5-0242ac110002.V', 'dfb847b7-025b-11ea-87b7-0242ac110002.V', 'dfb84a50-025b-11ea-8a50-0242ac110002.V', 'dfb84b6f-025b-11ea-8b6f-0242ac110002.V', 'dfb84c8d-025b-11ea-8c8d-0242ac110002.V', 'dfb84dae-025b-11ea-8dae-0242ac110002.V', 'dfb8507e-025b-11ea-907e-0242ac110002.V', 'dfb8531b-025b-11ea-931b-0242ac110002.V', 'dfb854be-025b-11ea-94be-0242ac110002.V', 'dfb8564e-025b-11ea-964e-0242ac110002.V', 'dfb857a1-025b-11ea-97a1-0242ac110002.V', 'dfb858d7-025b-11ea-98d7-0242ac110002.V', 'dfb85b98-025b-11ea-9b98-0242ac110002.V', 'dfb85cc7-025b-11ea-9cc7-0242ac110002.V', 'dfb85df2-025b-11ea-9df2-0242ac110002.V', 'dfb867fc-025b-11ea-a7fc-0242ac110002.V', 'dfb86949-025b-11ea-a949-0242ac110002.V', 'dfb86ad2-025b-11ea-aad2-0242ac110002.V', 'dfb86c10-025b-11ea-ac10-0242ac110002.V', 'dfb86d52-025b-11ea-ad52-0242ac110002.V', 'dfb86e93-025b-11ea-ae93-0242ac110002.V', 'dfb872b5-025b-11ea-b2b5-0242ac110002.V', 'dfb87479-025b-11ea-b479-0242ac110002.V', 'dfb875cd-025b-11ea-b5cd-0242ac110002.V', 'dfb87b64-025b-11ea-bb64-0242ac110002.V', 'dfb87df6-025b-11ea-bdf6-0242ac110002.V', 'dfb87f4e-025b-11ea-bf4e-0242ac110002.V', 'dfb8821b-025b-11ea-821b-0242ac110002.V', 'dfb883d0-025b-11ea-83d0-0242ac110002.V', 'dfb8850c-025b-11ea-850c-0242ac110002.V', 'dfb88889-025b-11ea-8889-0242ac110002.V', 'dfb889cc-025b-11ea-89cc-0242ac110002.V', 'dfb88b84-025b-11ea-8b84-0242ac110002.V', 'dfb88d57-025b-11ea-8d57-0242ac110002.V', 'dfb88f4a-025b-11ea-8f4a-0242ac110002.V', 'dfb891ea-025b-11ea-91ea-0242ac110002.V', 'dfb895b8-025b-11ea-95b8-0242ac110002.V', 'dfb8994a-025b-11ea-994a-0242ac110002.V', 'dfb89cd0-025b-11ea-9cd0-0242ac110002.V', 'dfb8a160-025b-11ea-a160-0242ac110002.V', 'dfb8a3ff-025b-11ea-a3ff-0242ac110002.V', 'dfb8a617-025b-11ea-a617-0242ac110002.V', 'dfb8a760-025b-11ea-a760-0242ac110002.V', 'dfb8a922-025b-11ea-a922-0242ac110002.V', 'dfb8acba-025b-11ea-acba-0242ac110002.V', 'dfb8b069-025b-11ea-b069-0242ac110002.V', 'dfb8b22d-025b-11ea-b22d-0242ac110002.V', 'dfb8b4f7-025b-11ea-b4f7-0242ac110002.V', 'dfb8b82f-025b-11ea-b82f-0242ac110002.V', 'dfb8bc35-025b-11ea-bc35-0242ac110002.V', 'dfb8c083-025b-11ea-8083-0242ac110002.V', 'dfb8c447-025b-11ea-8447-0242ac110002.V', 'dfb8c705-025b-11ea-8705-0242ac110002.V', 'dfb8c9df-025b-11ea-89df-0242ac110002.V', 'dfb8cd3a-025b-11ea-8d3a-0242ac110002.V', 'dfb8cf38-025b-11ea-8f38-0242ac110002.V', 'dfb8d0df-025b-11ea-90df-0242ac110002.V', 'dfb8d281-025b-11ea-9281-0242ac110002.V', 'dfb8d530-025b-11ea-9530-0242ac110002.V', 'dfb8ddd6-025b-11ea-9dd6-0242ac110002.V', 'dfb8e14d-025b-11ea-a14d-0242ac110002.V', 'dfb8e319-025b-11ea-a319-0242ac110002.V', 'dfb8ec1c-025b-11ea-ac1c-0242ac110002.V', 'dfb8ee0f-025b-11ea-ae0f-0242ac110002.V', 'dfb8ef84-025b-11ea-af84-0242ac110002.V', 'dfb8f0e7-025b-11ea-b0e7-0242ac110002.V', 'dfb8f6be-025b-11ea-b6be-0242ac110002.V', 'dfb8f8a2-025b-11ea-b8a2-0242ac110002.V', 'dfb8fa34-025b-11ea-ba34-0242ac110002.V', 'dfb8fec8-025b-11ea-bec8-0242ac110002.V', 'dfb90409-025b-11ea-8409-0242ac110002.V', 'dfb90765-025b-11ea-8765-0242ac110002.V', 'dfb90925-025b-11ea-8925-0242ac110002.V', 'dfb9119e-025b-11ea-919e-0242ac110002.V', 'dfb91508-025b-11ea-9508-0242ac110002.V', 'dfb91836-025b-11ea-9836-0242ac110002.V', 'dfb91b47-025b-11ea-9b47-0242ac110002.V', 'dfb91fb1-025b-11ea-9fb1-0242ac110002.V', 'dfb92655-025b-11ea-a655-0242ac110002.V', 'dfb9296a-025b-11ea-a96a-0242ac110002.V', 'dfb92d67-025b-11ea-ad67-0242ac110002.V', 'dfb9347f-025b-11ea-b47f-0242ac110002.V', 'dfb93ae5-025b-11ea-bae5-0242ac110002.V', 'dfb93d59-025b-11ea-bd59-0242ac110002.V', 'dfb9402c-025b-11ea-802c-0242ac110002.V', 'dfb947e3-025b-11ea-87e3-0242ac110002.V', 'dfb94b6d-025b-11ea-8b6d-0242ac110002.V', 'dfb94e13-025b-11ea-8e13-0242ac110002.V', 'dfb95231-025b-11ea-9231-0242ac110002.V', 'dfb954df-025b-11ea-94df-0242ac110002.V', 'dfb9579b-025b-11ea-979b-0242ac110002.V', 'dfb96016-025b-11ea-a016-0242ac110002.V', 'dfb9633a-025b-11ea-a33a-0242ac110002.V', 'dfb96466-025b-11ea-a466-0242ac110002.V', 'dfb96599-025b-11ea-a599-0242ac110002.V', 'dfb968ec-025b-11ea-a8ec-0242ac110002.V', 'dfb96d6d-025b-11ea-ad6d-0242ac110002.V', 'dfb972ac-025b-11ea-b2ac-0242ac110002.V', 'dfb975f3-025b-11ea-b5f3-0242ac110002.V', 'dfb979e4-025b-11ea-b9e4-0242ac110002.V', 'dfb97b6b-025b-11ea-bb6b-0242ac110002.V', 'dfb98384-025b-11ea-8384-0242ac110002.V', 'dfb98a99-025b-11ea-8a99-0242ac110002.V', 'dfb98c7b-025b-11ea-8c7b-0242ac110002.V', 'dfb98f80-025b-11ea-8f80-0242ac110002.V', 'dfb99518-025b-11ea-9518-0242ac110002.V', 'dfb996ef-025b-11ea-96ef-0242ac110002.V', 'dfb99891-025b-11ea-9891-0242ac110002.V', 'dfb99edb-025b-11ea-9edb-0242ac110002.V', 'dfb9a088-025b-11ea-a088-0242ac110002.V', 'dfb9a38b-025b-11ea-a38b-0242ac110002.V', 'dfb9a688-025b-11ea-a688-0242ac110002.V', 'dfb9ac5e-025b-11ea-ac5e-0242ac110002.V', 'dfb9b2a2-025b-11ea-b2a2-0242ac110002.V', 'dfb9b6e9-025b-11ea-b6e9-0242ac110002.V', 'dfb9bdd2-025b-11ea-bdd2-0242ac110002.V', 'dfb9c100-025b-11ea-8100-0242ac110002.V', 'dfb9c400-025b-11ea-8400-0242ac110002.V', 'dfb9c630-025b-11ea-8630-0242ac110002.V', 'dfb9c9a2-025b-11ea-89a2-0242ac110002.V', 'dfb9cd57-025b-11ea-8d57-0242ac110002.V', 'dfb9d200-025b-11ea-9200-0242ac110002.V', 'dfb9db1e-025b-11ea-9b1e-0242ac110002.V', 'dfb9e524-025b-11ea-a524-0242ac110002.V', 'dfb9e8bd-025b-11ea-a8bd-0242ac110002.V']\n"
     ]
    }
   ],
   "source": [
    "path = 'logs/'\n",
    "logName = 'case145'\n",
    "dpsim_result_file = path + logName + '.csv'\n",
    "\n",
    "ts_dpsim = read_timeseries_csv(dpsim_result_file)\n",
    "\n",
    "# Fix for dpsim naming - TODO: unify dpsim notation in log file and update villas-dataprocessing accordingly\n",
    "for ts,values in ts_dpsim.items():\n",
    "    values.name = values.name[:-2]"
   ]
  }
 ],
 "metadata": {
  "kernelspec": {
   "display_name": "Python 3",
   "language": "python",
   "name": "python3"
  },
  "language_info": {
   "codemirror_mode": {
    "name": "ipython",
    "version": 3
   },
   "file_extension": ".py",
   "mimetype": "text/x-python",
   "name": "python",
   "nbconvert_exporter": "python",
   "pygments_lexer": "ipython3",
   "version": "3.7.5"
  }
 },
 "nbformat": 4,
 "nbformat_minor": 4
}
