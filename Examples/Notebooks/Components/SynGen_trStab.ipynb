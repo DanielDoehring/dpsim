{
 "cells": [
  {
   "cell_type": "markdown",
   "metadata": {},
   "source": [
    "# Synchronous Generator - Classic Transient Stability Model"
   ]
  },
  {
   "cell_type": "code",
   "execution_count": null,
   "metadata": {},
   "outputs": [],
   "source": [
    "%%bash\n",
    "TOP=${TOP:-$(git rev-parse --show-toplevel)}\n",
    "PATH=${TOP}/build/Examples/Cxx\n",
    "\n",
    "DP_SynGenTrStab_SteadyState"
   ]
  },
  {
   "cell_type": "code",
   "execution_count": null,
   "metadata": {},
   "outputs": [],
   "source": [
    "import villas.dataprocessing.readtools as rt\n",
    "import villas.dataprocessing.plottools as pt\n",
    "from villas.dataprocessing.timeseries import TimeSeries as ts\n",
    "import matplotlib.pyplot as plt"
   ]
  },
  {
   "cell_type": "markdown",
   "metadata": {},
   "source": [
    "## Steady State"
   ]
  },
  {
   "cell_type": "code",
   "execution_count": null,
   "metadata": {},
   "outputs": [],
   "source": [
    "# read log file\n",
    "work_dir = '../../../logs/DP_SynGen_TrStab_SteadyState/'\n",
    "logName_ststate = 'DP_SynGen_TrStab_SteadyState_LeftVector'\n",
    "print(work_dir + logName_ststate + '.csv')\n",
    "ts_dpsim_ststate = rt.read_timeseries_dpsim(work_dir + logName_ststate + '.csv')\n",
    "ts_dpsim_ststate_emt = ts.frequency_shift_list(ts_dpsim_ststate, 60)\n",
    "phasors_ststate = ts.phasors(ts_dpsim_ststate)"
   ]
  },
  {
   "cell_type": "code",
   "execution_count": null,
   "metadata": {},
   "outputs": [],
   "source": [
    "for node, phasor in phasors_ststate.items():\n",
    "    print(node + ': ' + str(phasor['abs'].values[0]) + '<' + str(phasor['phase'].values[0]))"
   ]
  },
  {
   "cell_type": "code",
   "execution_count": null,
   "metadata": {},
   "outputs": [],
   "source": [
    "pt.plot_timeseries(1, ts_dpsim_ststate_emt['node00000_shift'])\n",
    "pt.plot_timeseries(1, ts_dpsim_ststate_emt['node00001_shift'])"
   ]
  },
  {
   "cell_type": "code",
   "execution_count": null,
   "metadata": {},
   "outputs": [],
   "source": [
    "# read log file\n",
    "work_dir = '../../../logs/DP_SynGen_TrStab_SteadyState/'\n",
    "logName_ststate = 'DP_SynGen_TrStab_SteadyState'\n",
    "print(work_dir + logName_ststate + '.csv')\n",
    "ts_dpsim_ststate = rt.read_timeseries_dpsim(work_dir + logName_ststate + '.csv')\n",
    "ts_dpsim_ststate_emt = ts.frequency_shift_list(ts_dpsim_ststate, 60)\n",
    "phasors_ststate = ts.phasors(ts_dpsim_ststate)"
   ]
  },
  {
   "cell_type": "code",
   "execution_count": null,
   "metadata": {},
   "outputs": [],
   "source": [
    "print('v1' + ': ' + str(phasors_ststate['v1']['abs'].values[0]) + '<' + str(phasors_ststate['v1']['phase'].values[0]))"
   ]
  },
  {
   "cell_type": "code",
   "execution_count": null,
   "metadata": {},
   "outputs": [],
   "source": [
    "pt.plot_timeseries(1, ts_dpsim_ststate['wr_gen'])\n",
    "plt.ylim([375,380])"
   ]
  },
  {
   "cell_type": "code",
   "execution_count": null,
   "metadata": {},
   "outputs": [],
   "source": [
    "import numpy as np\n",
    "assert np.max(ts_dpsim_ststate['wr_gen'].values[0] - ts_dpsim_ststate['wr_gen'].values[-1]) < 0.001"
   ]
  },
  {
   "cell_type": "markdown",
   "metadata": {},
   "source": [
    "## Load Step"
   ]
  },
  {
   "cell_type": "code",
   "execution_count": null,
   "metadata": {},
   "outputs": [],
   "source": [
    "%%bash\n",
    "TOP=${TOP:-$(git rev-parse --show-toplevel)}\n",
    "PATH=${TOP}/build/Examples/Cxx\n",
    "\n",
    "DP_SynGenTrStab_LoadStep"
   ]
  },
  {
   "cell_type": "code",
   "execution_count": null,
   "metadata": {},
   "outputs": [],
   "source": [
    "# read log file\n",
    "work_dir = 'logs/DP_SynGen_TrStab_LoadStep/'\n",
    "logName = 'DP_SynGen_TrStab_LoadStep'\n",
    "print(work_dir + logName + '.csv')\n",
    "ts_dpsim_loadstep= rt.read_timeseries_dpsim(work_dir + logName + '.csv')\n",
    "ts_dpsim_loadstep_emt = ts.frequency_shift_list(ts_dpsim_loadstep, 60)\n",
    "phasors_loadstep = ts.phasors(ts_dpsim_loadstep)"
   ]
  },
  {
   "cell_type": "code",
   "execution_count": null,
   "metadata": {},
   "outputs": [],
   "source": [
    "print('v1' + ': ' + str(phasors_loadstep['v1']['abs'].values[0]) + '<' + str(phasors_loadstep['v1']['phase'].values[0]))"
   ]
  },
  {
   "cell_type": "code",
   "execution_count": null,
   "metadata": {},
   "outputs": [],
   "source": [
    "pt.plot_timeseries(2, ts_dpsim_loadstep_emt['v1_shift'])\n",
    "plt.xlim(0.03, 0.07)  "
   ]
  },
  {
   "cell_type": "code",
   "execution_count": null,
   "metadata": {},
   "outputs": [],
   "source": [
    "pt.plot_timeseries(3, ts_dpsim_loadstep['wr_gen'])"
   ]
  },
  {
   "cell_type": "code",
   "execution_count": null,
   "metadata": {},
   "outputs": [],
   "source": [
    "assert np.max(ts_dpsim_loadstep['wr_gen'].values[0] - ts_dpsim_loadstep['wr_gen'].values[-1]) < 5"
   ]
  }
 ],
 "metadata": {
  "kernelspec": {
   "display_name": "Python 3",
   "language": "python",
   "name": "python3"
  },
  "language_info": {
   "codemirror_mode": {
    "name": "ipython",
    "version": 3
   },
   "file_extension": ".py",
   "mimetype": "text/x-python",
   "name": "python",
   "nbconvert_exporter": "python",
   "pygments_lexer": "ipython3",
   "version": "3.7.5"
  },
  "tests": {
   "skip": true
  }
 },
 "nbformat": 4,
 "nbformat_minor": 4
}
