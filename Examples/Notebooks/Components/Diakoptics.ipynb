{
 "cells": [
  {
   "cell_type": "markdown",
   "metadata": {},
   "source": [
    "# Diakoptics Tests"
   ]
  },
  {
   "cell_type": "code",
   "execution_count": null,
   "metadata": {},
   "outputs": [],
   "source": [
    "import villas.dataprocessing.readtools as rt\n",
    "from villas.dataprocessing.timeseries import TimeSeries as ts\n",
    "import matplotlib.pyplot as plt"
   ]
  },
  {
   "cell_type": "markdown",
   "metadata": {},
   "source": [
    "## R-decoupling"
   ]
  },
  {
   "cell_type": "code",
   "execution_count": null,
   "metadata": {},
   "outputs": [],
   "source": [
    "%%bash\n",
    "TOP=${TOP:-$(git rev-parse --show-toplevel)}\n",
    "PATH=${TOP}/build/Examples/Cxx\n",
    "\n",
    "DP_Diakoptics"
   ]
  },
  {
   "cell_type": "code",
   "execution_count": null,
   "metadata": {},
   "outputs": [],
   "source": [
    "work_dir = 'logs/DP_VS_CS_R4_Diakoptics/'\n",
    "log_name = 'DP_VS_CS_R4_Diakoptics'\n",
    "print(work_dir + log_name + '.csv')\n",
    "diakoptic_r_decoup = rt.read_timeseries_dpsim(work_dir + log_name + '.csv')\n",
    "diakoptic_r_decoup_emt = ts.frequency_shift_list(diakoptic_r_decoup, 50)"
   ]
  },
  {
   "cell_type": "code",
   "execution_count": null,
   "metadata": {},
   "outputs": [],
   "source": [
    "plt.plot(diakoptic_r_decoup_emt['v1_shift'].time, diakoptic_r_decoup_emt['v1_shift'].values)\n",
    "plt.plot(diakoptic_r_decoup_emt['v2_shift'].time, diakoptic_r_decoup_emt['v2_shift'].values)\n",
    "#plt.xlim([0,0.02])"
   ]
  },
  {
   "cell_type": "code",
   "execution_count": null,
   "metadata": {},
   "outputs": [],
   "source": [
    "work_dir = 'logs/DP_VS_CS_R4/'\n",
    "log_name = 'DP_VS_CS_R4'\n",
    "print(work_dir + log_name + '.csv')\n",
    "diakoptic_ref = rt.read_timeseries_dpsim(work_dir + log_name + '.csv')\n",
    "diakoptic_ref_emt = ts.frequency_shift_list(diakoptic_ref, 50)"
   ]
  },
  {
   "cell_type": "code",
   "execution_count": null,
   "metadata": {},
   "outputs": [],
   "source": [
    "plt.plot(diakoptic_ref_emt['v1_shift'].time, diakoptic_ref_emt['v1_shift'].values)\n",
    "plt.plot(diakoptic_ref_emt['v2_shift'].time, diakoptic_ref_emt['v2_shift'].values)\n",
    "#plt.xlim([0,0.02])"
   ]
  },
  {
   "cell_type": "code",
   "execution_count": null,
   "metadata": {},
   "outputs": [],
   "source": [
    "%%bash\n",
    "TOP=${TOP:-$(git rev-parse --show-toplevel)}\n",
    "PATH=${TOP}/build/Examples/Cxx\n",
    "\n",
    "DP_Diakoptics"
   ]
  },
  {
   "cell_type": "code",
   "execution_count": null,
   "metadata": {},
   "outputs": [],
   "source": [
    "work_dir = 'logs/DP_VS_R2L3_Diakoptics/'\n",
    "log_name = 'DP_VS_R2L3_Diakoptics'\n",
    "print(work_dir + log_name + '.csv')\n",
    "diakoptic_l_decoup = rt.read_timeseries_dpsim(work_dir + log_name + '.csv')\n",
    "diakoptic_l_decoup_emt = ts.frequency_shift_list(diakoptic_l_decoup, 50)"
   ]
  },
  {
   "cell_type": "code",
   "execution_count": null,
   "metadata": {},
   "outputs": [],
   "source": [
    "plt.plot(diakoptic_l_decoup_emt['v1_shift'].time, diakoptic_l_decoup_emt['v1_shift'].values)\n",
    "plt.plot(diakoptic_l_decoup_emt['v3_shift'].time, diakoptic_l_decoup_emt['v3_shift'].values)\n",
    "#plt.xlim([0,0.02])"
   ]
  },
  {
   "cell_type": "code",
   "execution_count": null,
   "metadata": {},
   "outputs": [],
   "source": [
    "work_dir = 'logs/DP_VS_R2L3/'\n",
    "log_name = 'DP_VS_R2L3'\n",
    "print(work_dir + log_name + '.csv')\n",
    "diakoptic_l = rt.read_timeseries_dpsim(work_dir + log_name + '.csv')\n",
    "diakoptic_l_emt = ts.frequency_shift_list(diakoptic_l, 50)"
   ]
  },
  {
   "cell_type": "code",
   "execution_count": null,
   "metadata": {},
   "outputs": [],
   "source": [
    "plt.plot(diakoptic_l_emt['v1_shift'].time, diakoptic_l_emt['v1_shift'].values)\n",
    "plt.plot(diakoptic_l_emt['v3_shift'].time, diakoptic_l_emt['v3_shift'].values)\n",
    "#plt.xlim([0,0.02])"
   ]
  },
  {
   "cell_type": "code",
   "execution_count": null,
   "metadata": {},
   "outputs": [],
   "source": []
  }
 ],
 "metadata": {
  "kernelspec": {
   "display_name": "Python 3",
   "language": "python",
   "name": "python3"
  },
  "language_info": {
   "codemirror_mode": {
    "name": "ipython",
    "version": 3
   },
   "file_extension": ".py",
   "mimetype": "text/x-python",
   "name": "python",
   "nbconvert_exporter": "python",
   "pygments_lexer": "ipython3",
   "version": "3.7.5"
  }
 },
 "nbformat": 4,
 "nbformat_minor": 4
}
