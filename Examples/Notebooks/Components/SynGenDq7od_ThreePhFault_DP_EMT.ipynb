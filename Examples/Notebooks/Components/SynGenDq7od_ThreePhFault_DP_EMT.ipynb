{
 "cells": [
  {
   "cell_type": "markdown",
   "metadata": {},
   "source": [
    "# Synchronous Generator dq 7th order"
   ]
  },
  {
   "cell_type": "markdown",
   "metadata": {},
   "source": [
    "## Run C++ examples"
   ]
  },
  {
   "cell_type": "code",
   "execution_count": null,
   "metadata": {},
   "outputs": [],
   "source": [
    "%%bash\n",
    "mkdir logs\n",
    "TOP=${TOP:-$(git rev-parse --show-toplevel)}\n",
    "${TOP}/build/Examples/Cxx/DP_EMT_SynGenDq7odODE_ThreePhFault"
   ]
  },
  {
   "cell_type": "code",
   "execution_count": null,
   "metadata": {},
   "outputs": [],
   "source": [
    "%%bash\n",
    "TOP=${TOP:-$(git rev-parse --show-toplevel)}\n",
    "${TOP}/build/Examples/Cxx/DP_EMT_SynGenDq7odTrapez_ThreePhFault"
   ]
  },
  {
   "cell_type": "markdown",
   "metadata": {},
   "source": [
    "## Three Phase Fault - DPsim ODE model"
   ]
  },
  {
   "cell_type": "code",
   "execution_count": null,
   "metadata": {},
   "outputs": [],
   "source": [
    "import villas.dataprocessing.readtools as rt\n",
    "from villas.dataprocessing.timeseries import TimeSeries as ts\n",
    "import matplotlib.pyplot as plt"
   ]
  },
  {
   "cell_type": "code",
   "execution_count": null,
   "metadata": {},
   "outputs": [],
   "source": [
    "work_dir = 'logs/DP_SynGenDq7odODE_ThreePhFault/'\n",
    "log_name = 'DP_SynGenDq7odODE_ThreePhFault'\n",
    "print(work_dir + log_name + '.csv')\n",
    "ts_dpsim_ode_tpf = rt.read_timeseries_dpsim(work_dir + log_name + '.csv')\n",
    "ts_dpsim_ode_tpf_emt = ts.frequency_shift_list(ts_dpsim_ode_tpf, 60)"
   ]
  },
  {
   "cell_type": "code",
   "execution_count": null,
   "metadata": {},
   "outputs": [],
   "source": [
    "ts_dpsim_ode_tpf_phasors = ts.phasors(ts_dpsim_ode_tpf)\n",
    "for node, phasor in ts_dpsim_ode_tpf_phasors.items():\n",
    "    print(node + ': ' + str(phasor['abs'].values[0]) + '<' + str(phasor['phase'].values[0]))"
   ]
  },
  {
   "cell_type": "code",
   "execution_count": null,
   "metadata": {},
   "outputs": [],
   "source": [
    "work_dir = 'logs/EMT_SynGenDq7odODE_ThreePhFault/'\n",
    "log_name = 'EMT_SynGenDq7odODE_ThreePhFault'\n",
    "print(work_dir + log_name + '.csv')\n",
    "ts_dpsim_emt_ode_tpf = rt.read_timeseries_dpsim(work_dir + log_name + '.csv')"
   ]
  },
  {
   "cell_type": "code",
   "execution_count": null,
   "metadata": {},
   "outputs": [],
   "source": [
    "plt.plot(ts_dpsim_ode_tpf_emt['v1_0_shift'].time, ts_dpsim_ode_tpf_emt['v1_0_shift'].values)\n",
    "plt.plot(ts_dpsim_ode_tpf_emt['v1_1_shift'].time, ts_dpsim_ode_tpf_emt['v1_1_shift'].values)\n",
    "plt.plot(ts_dpsim_ode_tpf_emt['v1_2_shift'].time, ts_dpsim_ode_tpf_emt['v1_2_shift'].values)"
   ]
  },
  {
   "cell_type": "code",
   "execution_count": null,
   "metadata": {},
   "outputs": [],
   "source": [
    "plt.plot(ts_dpsim_ode_tpf_emt['i_gen_0_shift'].time, ts_dpsim_ode_tpf_emt['i_gen_0_shift'].values)\n",
    "plt.plot(ts_dpsim_ode_tpf_emt['i_gen_1_shift'].time, ts_dpsim_ode_tpf_emt['i_gen_1_shift'].values)\n",
    "plt.plot(ts_dpsim_ode_tpf_emt['i_gen_2_shift'].time, ts_dpsim_ode_tpf_emt['i_gen_2_shift'].values)\n",
    "plt.plot(ts_dpsim_emt_ode_tpf['i_gen_0'].time, ts_dpsim_emt_ode_tpf['i_gen_0'].values)\n",
    "plt.plot(ts_dpsim_emt_ode_tpf['i_gen_1'].time, ts_dpsim_emt_ode_tpf['i_gen_1'].values)\n",
    "plt.plot(ts_dpsim_emt_ode_tpf['i_gen_2'].time, ts_dpsim_emt_ode_tpf['i_gen_2'].values)"
   ]
  },
  {
   "cell_type": "markdown",
   "metadata": {},
   "source": [
    "## Three Phase Fault - DPsim Trapez"
   ]
  },
  {
   "cell_type": "code",
   "execution_count": null,
   "metadata": {},
   "outputs": [],
   "source": [
    "work_dir = 'logs/DP_SynGenDq7odTrapez_ThreePhFault/'\n",
    "log_name = 'DP_SynGenDq7odTrapez_ThreePhFault'\n",
    "print(work_dir + log_name + '.csv')\n",
    "ts_dpsim_trapez_tpf = rt.read_timeseries_dpsim(work_dir + log_name + '.csv')\n",
    "ts_dpsim_trapez_tpf_emt = ts.frequency_shift_list(ts_dpsim_trapez_tpf, 60)"
   ]
  },
  {
   "cell_type": "code",
   "execution_count": null,
   "metadata": {},
   "outputs": [],
   "source": [
    "work_dir = 'logs/EMT_SynGenDq7odTrapez_ThreePhFault/'\n",
    "log_name = 'EMT_SynGenDq7odTrapez_ThreePhFault'\n",
    "print(work_dir + log_name + '.csv')\n",
    "ts_dpsim_emt_trapez_tpf = rt.read_timeseries_dpsim(work_dir + log_name + '.csv')"
   ]
  },
  {
   "cell_type": "code",
   "execution_count": null,
   "metadata": {},
   "outputs": [],
   "source": [
    "plt.plot(ts_dpsim_trapez_tpf_emt['i_gen_0_shift'].time, ts_dpsim_trapez_tpf_emt['i_gen_0_shift'].values)\n",
    "plt.plot(ts_dpsim_trapez_tpf_emt['i_gen_1_shift'].time, ts_dpsim_trapez_tpf_emt['i_gen_1_shift'].values)\n",
    "plt.plot(ts_dpsim_trapez_tpf_emt['i_gen_2_shift'].time, ts_dpsim_trapez_tpf_emt['i_gen_2_shift'].values)\n",
    "plt.plot(ts_dpsim_emt_trapez_tpf['i_gen_0'].time, ts_dpsim_emt_trapez_tpf['i_gen_0'].values)\n",
    "plt.plot(ts_dpsim_emt_trapez_tpf['i_gen_1'].time, ts_dpsim_emt_trapez_tpf['i_gen_1'].values)\n",
    "plt.plot(ts_dpsim_emt_trapez_tpf['i_gen_2'].time, ts_dpsim_emt_trapez_tpf['i_gen_2'].values)"
   ]
  },
  {
   "cell_type": "markdown",
   "metadata": {},
   "source": [
    "## Three Phase Fault - Simulink"
   ]
  },
  {
   "cell_type": "code",
   "execution_count": null,
   "metadata": {},
   "outputs": [],
   "source": [
    "# download Simulink log file from RWTH gitlab\n",
    "import os\n",
    "import urllib.request\n",
    "\n",
    "if not os.path.exists('reference-results'):\n",
    "    os.mkdir('reference-results')\n",
    "\n",
    "url = 'https://git.rwth-aachen.de/acs/public/simulation/reference-results/raw/master/Simulink/SynchronousGenerator/SynGen_dq_7th_ThreePhFault/SL_SynGenDq7od_ThreePhFault_v_i.csv'\n",
    "local_file = 'reference-results/SL_SynGenDq7od_ThreePhFault_v_i.csv'\n",
    "urllib.request.urlretrieve(url, local_file) \n",
    "\n",
    "import villas.dataprocessing.readtools as rt\n",
    "import matplotlib.pyplot as plt \n",
    "ts_sl_tpf = rt.read_timeseries_simulink(local_file)"
   ]
  },
  {
   "cell_type": "code",
   "execution_count": null,
   "metadata": {},
   "outputs": [],
   "source": [
    "plt.plot(ts_sl_tpf['v1'].time, ts_sl_tpf['v1'].values)\n",
    "plt.plot(ts_sl_tpf['v2'].time, ts_sl_tpf['v2'].values)\n",
    "plt.plot(ts_sl_tpf['v3'].time, ts_sl_tpf['v3'].values)\n",
    "plt.xlim(0,0.3)\n",
    "\n",
    "plt.figure()\n",
    "plt.plot(ts_sl_tpf['i1'].time, ts_sl_tpf['i1'].values)\n",
    "plt.plot(ts_sl_tpf['i2'].time, ts_sl_tpf['i2'].values)\n",
    "plt.plot(ts_sl_tpf['i3'].time, ts_sl_tpf['i3'].values)\n",
    "plt.xlim(0,0.3)"
   ]
  },
  {
   "cell_type": "markdown",
   "metadata": {},
   "source": [
    "## DPsim ODE and Simulink"
   ]
  },
  {
   "cell_type": "code",
   "execution_count": null,
   "metadata": {},
   "outputs": [],
   "source": [
    "#%matplotlib qt\n",
    "import matplotlib.pyplot as plt\n",
    "ts_sl_tpf_i1 = ts('i1', ts_sl_tpf['i1'].time, -ts_sl_tpf['i1'].values)\n",
    "ts_sl_tpf_i2 = ts('i2', ts_sl_tpf['i2'].time, -ts_sl_tpf['i2'].values)\n",
    "ts_sl_tpf_i3 = ts('i3', ts_sl_tpf['i3'].time, -ts_sl_tpf['i3'].values)\n",
    "\n",
    "#plt.figure(figsize=(20,10))\n",
    "plt.plot(ts_sl_tpf_i1.time, ts_sl_tpf_i1.values, color = '#939393ff', label = 'ia_sl')\n",
    "plt.plot(ts_sl_tpf_i2.time, ts_sl_tpf_i2.values, color = '#939393ff', label = 'ib_sl')\n",
    "plt.plot(ts_sl_tpf_i3.time, ts_sl_tpf_i3.values, color = '#939393ff', label = 'ic_sl')\n",
    "plt.plot(ts_dpsim_ode_tpf_emt['i_gen_0_shift'].time, ts_dpsim_ode_tpf_emt['i_gen_0_shift'].values, linestyle='-.', color = '#d62728ff', label = 'ia_dpsim')\n",
    "plt.plot(ts_dpsim_ode_tpf_emt['i_gen_1_shift'].time, ts_dpsim_ode_tpf_emt['i_gen_1_shift'].values, linestyle='-.', color = '#0055ffff', label = 'ib_dpsim')\n",
    "plt.plot(ts_dpsim_ode_tpf_emt['i_gen_2_shift'].time, ts_dpsim_ode_tpf_emt['i_gen_2_shift'].values, linestyle='-.', color = '#00aa7fff', label = 'ic_dpsim')\n",
    "plt.xlabel('time (s)')\n",
    "plt.ylabel('voltage (V)')\n",
    "plt.xlim(0.05,0.25)\n",
    "#plt.ylim(-1.6e5,1.6e5)\n",
    "#plt.savefig('syngen_fault_ode.pdf')"
   ]
  },
  {
   "cell_type": "code",
   "execution_count": null,
   "metadata": {},
   "outputs": [],
   "source": [
    "plt.plot(ts_dpsim_ode_tpf_phasors['i_gen_0']['phase'].time, ts_dpsim_ode_tpf_phasors['i_gen_0']['phase'].values)\n",
    "plt.xlim([0.09,0.21])\n",
    "\n",
    "plt.figure()\n",
    "plt.plot(ts_dpsim_ode_tpf['wr_gen'].time, ts_dpsim_ode_tpf['wr_gen'].values * 60)\n",
    "plt.xlim([0.09,0.21])"
   ]
  },
  {
   "cell_type": "code",
   "execution_count": null,
   "metadata": {},
   "outputs": [],
   "source": [
    "import numpy as np\n",
    "diff = ts_sl_tpf_i1.values - ts_dpsim_ode_tpf_emt['i_gen_0_shift'].values\n",
    "assert np.max(diff[:4000]) < 200"
   ]
  },
  {
   "cell_type": "markdown",
   "metadata": {},
   "source": [
    "## DPsim Trapez and Simulink"
   ]
  },
  {
   "cell_type": "code",
   "execution_count": null,
   "metadata": {},
   "outputs": [],
   "source": [
    "ts_sl_tpf_i1 = ts('i1', ts_sl_tpf['i1'].time, -ts_sl_tpf['i1'].values)\n",
    "ts_sl_tpf_i2 = ts('i2', ts_sl_tpf['i2'].time, -ts_sl_tpf['i2'].values)\n",
    "ts_sl_tpf_i3 = ts('i3', ts_sl_tpf['i3'].time, -ts_sl_tpf['i3'].values)\n",
    "\n",
    "#plt.figure(figsize=(20,10))\n",
    "plt.plot(ts_sl_tpf_i1.time, ts_sl_tpf_i1.values)\n",
    "plt.plot(ts_sl_tpf_i2.time, ts_sl_tpf_i2.values)\n",
    "plt.plot(ts_sl_tpf_i3.time, ts_sl_tpf_i3.values)\n",
    "plt.plot(ts_dpsim_trapez_tpf_emt['i_gen_0_shift'].time, ts_dpsim_trapez_tpf_emt['i_gen_0_shift'].values)\n",
    "plt.plot(ts_dpsim_trapez_tpf_emt['i_gen_1_shift'].time, ts_dpsim_trapez_tpf_emt['i_gen_1_shift'].values)\n",
    "plt.plot(ts_dpsim_trapez_tpf_emt['i_gen_2_shift'].time, ts_dpsim_trapez_tpf_emt['i_gen_2_shift'].values)"
   ]
  },
  {
   "cell_type": "code",
   "execution_count": null,
   "metadata": {},
   "outputs": [],
   "source": [
    "import numpy as np\n",
    "diff = ts_sl_tpf_i1.values - ts_dpsim_trapez_tpf_emt['i_gen_0_shift'].values\n",
    "assert np.max(diff[:4000]) < 200"
   ]
  },
  {
   "cell_type": "code",
   "execution_count": null,
   "metadata": {},
   "outputs": [],
   "source": []
  }
 ],
 "metadata": {
  "kernelspec": {
   "display_name": "Python 3",
   "language": "python",
   "name": "python3"
  },
  "language_info": {
   "codemirror_mode": {
    "name": "ipython",
    "version": 3
   },
   "file_extension": ".py",
   "mimetype": "text/x-python",
   "name": "python",
   "nbconvert_exporter": "python",
   "pygments_lexer": "ipython3",
   "version": "3.7.5"
  },
  "tests": {
   "skip": true
  }
 },
 "nbformat": 4,
 "nbformat_minor": 4
}
