{
 "cells": [
  {
   "cell_type": "markdown",
   "metadata": {},
   "source": [
    "# Synchronous Generator dq-frame 7th order - Steady State"
   ]
  },
  {
   "cell_type": "markdown",
   "metadata": {},
   "source": [
    "## Run C++ examples"
   ]
  },
  {
   "cell_type": "code",
   "execution_count": null,
   "metadata": {},
   "outputs": [],
   "source": [
    "%%bash\n",
    "mkdir logs\n",
    "TOP=${TOP:-$(git rev-parse --show-toplevel)}\n",
    "${TOP}/build/Examples/Cxx/DP_EMT_SynGenDq7odODE_SteadyState"
   ]
  },
  {
   "cell_type": "code",
   "execution_count": null,
   "metadata": {},
   "outputs": [],
   "source": [
    "%%bash\n",
    "TOP=${TOP:-$(git rev-parse --show-toplevel)}\n",
    "${TOP}/build/Examples/Cxx/DP_EMT_SynGenDq7odTrapez_SteadyState"
   ]
  },
  {
   "cell_type": "markdown",
   "metadata": {},
   "source": [
    "## Steady State - DPsim ODE model"
   ]
  },
  {
   "cell_type": "code",
   "execution_count": null,
   "metadata": {},
   "outputs": [],
   "source": [
    "import villas.dataprocessing.readtools as rt\n",
    "from villas.dataprocessing.timeseries import TimeSeries as ts\n",
    "import matplotlib.pyplot as plt"
   ]
  },
  {
   "cell_type": "code",
   "execution_count": null,
   "metadata": {},
   "outputs": [],
   "source": [
    "work_dir = 'logs/DP_SynGenDq7odODE_SteadyState/'\n",
    "log_name = 'DP_SynGenDq7odODE_SteadyState'\n",
    "print(work_dir + log_name + '.csv')\n",
    "ts_dpsim_ode_ststate = rt.read_timeseries_dpsim(work_dir + log_name + '.csv')\n",
    "ts_dpsim_ode_ststate_emt = ts.frequency_shift_list(ts_dpsim_ode_ststate, 60)"
   ]
  },
  {
   "cell_type": "code",
   "execution_count": null,
   "metadata": {},
   "outputs": [],
   "source": [
    "ts_dpsim_ode_ststate_phasors = ts.phasors(ts_dpsim_ode_ststate)\n",
    "for node, phasor in ts_dpsim_ode_ststate_phasors.items():\n",
    "    print(node + ': ' + str(phasor['abs'].values[0]) + '<' + str(phasor['phase'].values[0]))"
   ]
  },
  {
   "cell_type": "code",
   "execution_count": null,
   "metadata": {},
   "outputs": [],
   "source": [
    "work_dir = 'logs/EMT_SynGenDq7odODE_SteadyState/'\n",
    "log_name = 'EMT_SynGenDq7odODE_SteadyState'\n",
    "print(work_dir + log_name + '.csv')\n",
    "ts_dpsim_emt_ode_ststate = rt.read_timeseries_dpsim(work_dir + log_name + '.csv')"
   ]
  },
  {
   "cell_type": "code",
   "execution_count": null,
   "metadata": {},
   "outputs": [],
   "source": [
    "plt.plot(ts_dpsim_ode_ststate_emt['v1_0_shift'].time, ts_dpsim_ode_ststate_emt['v1_0_shift'].values)\n",
    "plt.plot(ts_dpsim_ode_ststate_emt['v1_1_shift'].time, ts_dpsim_ode_ststate_emt['v1_1_shift'].values)\n",
    "plt.plot(ts_dpsim_ode_ststate_emt['v1_2_shift'].time, ts_dpsim_ode_ststate_emt['v1_2_shift'].values)\n",
    "plt.plot(ts_dpsim_emt_ode_ststate['v1_0'].time, ts_dpsim_emt_ode_ststate['v1_0'].values)\n",
    "plt.plot(ts_dpsim_emt_ode_ststate['v1_1'].time, ts_dpsim_emt_ode_ststate['v1_1'].values)\n",
    "plt.plot(ts_dpsim_emt_ode_ststate['v1_2'].time, ts_dpsim_emt_ode_ststate['v1_2'].values)"
   ]
  },
  {
   "cell_type": "markdown",
   "metadata": {},
   "source": [
    "## Steady State - DPsim Trapez model"
   ]
  },
  {
   "cell_type": "code",
   "execution_count": null,
   "metadata": {},
   "outputs": [],
   "source": [
    "work_dir = 'logs/DP_SynGenDq7odTrapez_SteadyState/'\n",
    "log_name = 'DP_SynGenDq7odTrapez_SteadyState'\n",
    "print(work_dir + log_name + '.csv')\n",
    "ts_dpsim_trpz_ststate = rt.read_timeseries_dpsim(work_dir + log_name + '.csv')\n",
    "ts_dpsim_trpz_ststate_emt = ts.frequency_shift_list(ts_dpsim_trpz_ststate, 60)"
   ]
  },
  {
   "cell_type": "code",
   "execution_count": null,
   "metadata": {},
   "outputs": [],
   "source": [
    "work_dir = 'logs/EMT_SynGenDq7odTrapez_SteadyState/'\n",
    "log_name = 'EMT_SynGenDq7odTrapez_SteadyState'\n",
    "print(work_dir + log_name + '.csv')\n",
    "ts_dpsim_emt_trpz_ststate = rt.read_timeseries_dpsim(work_dir + log_name + '.csv')"
   ]
  },
  {
   "cell_type": "code",
   "execution_count": null,
   "metadata": {},
   "outputs": [],
   "source": [
    "plt.plot(ts_dpsim_trpz_ststate_emt['v1_0_shift'].time, ts_dpsim_trpz_ststate_emt['v1_0_shift'].values)\n",
    "plt.plot(ts_dpsim_trpz_ststate_emt['v1_1_shift'].time, ts_dpsim_trpz_ststate_emt['v1_1_shift'].values)\n",
    "plt.plot(ts_dpsim_trpz_ststate_emt['v1_2_shift'].time, ts_dpsim_trpz_ststate_emt['v1_2_shift'].values)\n",
    "plt.plot(ts_dpsim_emt_trpz_ststate['v1_0'].time, ts_dpsim_emt_trpz_ststate['v1_0'].values)\n",
    "plt.plot(ts_dpsim_emt_trpz_ststate['v1_1'].time, ts_dpsim_emt_trpz_ststate['v1_1'].values)\n",
    "plt.plot(ts_dpsim_emt_trpz_ststate['v1_2'].time, ts_dpsim_emt_trpz_ststate['v1_2'].values)"
   ]
  },
  {
   "cell_type": "markdown",
   "metadata": {},
   "source": [
    "## Steady State - Simulink"
   ]
  },
  {
   "cell_type": "code",
   "execution_count": null,
   "metadata": {},
   "outputs": [],
   "source": [
    "# download and read Simulink log file\n",
    "import os\n",
    "import urllib.request\n",
    "\n",
    "if not os.path.exists('reference-results'):\n",
    "    os.mkdir('reference-results')\n",
    "\n",
    "url = 'https://git.rwth-aachen.de/acs/public/simulation/reference-results/raw/master/Simulink/SynchronousGenerator/SynGen_dq_7th_SteadyState/SL_SynGenDq7od_SteadyState_v_i.csv'\n",
    "local_file = 'reference-results/SL_SynGenDq7od_SteadyState_v_i.csv'\n",
    "urllib.request.urlretrieve(url, local_file) \n",
    "\n",
    "ts_sl_ststate = rt.read_timeseries_simulink(local_file)"
   ]
  },
  {
   "cell_type": "code",
   "execution_count": null,
   "metadata": {},
   "outputs": [],
   "source": [
    "plt.plot(ts_sl_ststate['i1'].time, ts_sl_ststate['i1'].values)\n",
    "plt.plot(ts_sl_ststate['i2'].time, ts_sl_ststate['i2'].values)\n",
    "plt.plot(ts_sl_ststate['i3'].time, ts_sl_ststate['i3'].values)\n",
    "plt.xlim(0,0.03)"
   ]
  },
  {
   "cell_type": "markdown",
   "metadata": {},
   "source": [
    "## Comparison - Steady State"
   ]
  },
  {
   "cell_type": "code",
   "execution_count": null,
   "metadata": {},
   "outputs": [],
   "source": [
    "plt.plot(ts_dpsim_ode_ststate_emt['i_load_0_shift'].time, ts_dpsim_ode_ststate_emt['i_load_0_shift'].values)\n",
    "plt.plot(ts_dpsim_ode_ststate_emt['i_load_1_shift'].time, ts_dpsim_ode_ststate_emt['i_load_1_shift'].values)\n",
    "plt.plot(ts_dpsim_ode_ststate_emt['i_load_2_shift'].time, ts_dpsim_ode_ststate_emt['i_load_2_shift'].values)\n",
    "plt.plot(ts_sl_ststate['i1'].time, ts_sl_ststate['i1'].values)\n",
    "plt.plot(ts_sl_ststate['i2'].time, ts_sl_ststate['i2'].values)\n",
    "plt.plot(ts_sl_ststate['i3'].time, ts_sl_ststate['i3'].values)\n",
    "plt.xlim(0,0.03)"
   ]
  },
  {
   "cell_type": "markdown",
   "metadata": {},
   "source": [
    "Time shift is required here to align plots."
   ]
  }
 ],
 "metadata": {
  "kernelspec": {
   "display_name": "Python 3",
   "language": "python",
   "name": "python3"
  },
  "language_info": {
   "codemirror_mode": {
    "name": "ipython",
    "version": 3
   },
   "file_extension": ".py",
   "mimetype": "text/x-python",
   "name": "python",
   "nbconvert_exporter": "python",
   "pygments_lexer": "ipython3",
   "version": "3.7.5"
  },
  "tests": {
   "skip": true
  }
 },
 "nbformat": 4,
 "nbformat_minor": 4
}
