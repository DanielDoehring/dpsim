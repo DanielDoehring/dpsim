{
 "cells": [
  {
   "cell_type": "markdown",
   "metadata": {},
   "source": [
    "# Line Tests"
   ]
  },
  {
   "cell_type": "code",
   "execution_count": null,
   "metadata": {},
   "outputs": [],
   "source": [
    "import villas.dataprocessing.readtools as rt\n",
    "from villas.dataprocessing.timeseries import TimeSeries as ts\n",
    "import matplotlib.pyplot as plt"
   ]
  },
  {
   "cell_type": "markdown",
   "metadata": {},
   "source": [
    "## PI-Line with RLC elements"
   ]
  },
  {
   "cell_type": "code",
   "execution_count": null,
   "metadata": {},
   "outputs": [],
   "source": [
    "%%bash\n",
    "TOP=${TOP:-$(git rev-parse --show-toplevel)}\n",
    "PATH=${TOP}/build/Examples/Cxx\n",
    "\n",
    "DP_PiLine"
   ]
  },
  {
   "cell_type": "code",
   "execution_count": null,
   "metadata": {},
   "outputs": [],
   "source": [
    "work_dir = 'logs/DP_PiLine_Elements/'\n",
    "log_name = 'DP_PiLine_Elements'\n",
    "print(work_dir + log_name + '.csv')\n",
    "piline_elements = rt.read_timeseries_dpsim(work_dir + log_name + '.csv')\n",
    "piline_elements_emt = ts.frequency_shift_list(piline_elements, 50)"
   ]
  },
  {
   "cell_type": "code",
   "execution_count": null,
   "metadata": {},
   "outputs": [],
   "source": [
    "plt.plot(piline_elements_emt['v1_shift'].time, piline_elements_emt['v1_shift'].values)\n",
    "plt.plot(piline_elements_emt['v2_shift'].time, piline_elements_emt['v2_shift'].values)\n",
    "#plt.xlim([0,0.02])"
   ]
  },
  {
   "cell_type": "markdown",
   "metadata": {},
   "source": [
    "## PI-Line model"
   ]
  },
  {
   "cell_type": "code",
   "execution_count": null,
   "metadata": {},
   "outputs": [],
   "source": [
    "work_dir = 'logs/DP_PiLine_Component/'\n",
    "log_name = 'DP_PiLine_Component'\n",
    "print(work_dir + log_name + '.csv')\n",
    "piline_component = rt.read_timeseries_dpsim(work_dir + log_name + '.csv')\n",
    "piline_component_emt = ts.frequency_shift_list(piline_component, 50)"
   ]
  },
  {
   "cell_type": "code",
   "execution_count": null,
   "metadata": {},
   "outputs": [],
   "source": [
    "plt.plot(piline_component_emt['v1_shift'].time, piline_component_emt['v1_shift'].values)\n",
    "plt.plot(piline_component_emt['v2_shift'].time, piline_component_emt['v2_shift'].values)\n",
    "#plt.xlim([0,0.02])"
   ]
  },
  {
   "cell_type": "code",
   "execution_count": null,
   "metadata": {},
   "outputs": [],
   "source": [
    "plt.plot(piline_elements_emt['v2_shift'].time, \n",
    "         piline_elements_emt['v2_shift'].values - piline_component_emt['v2_shift'].values)"
   ]
  },
  {
   "cell_type": "markdown",
   "metadata": {},
   "source": [
    "## Diakotpics PI-Line"
   ]
  },
  {
   "cell_type": "code",
   "execution_count": null,
   "metadata": {},
   "outputs": [],
   "source": [
    "work_dir = 'logs/DP_PiLine_Diakoptics/'\n",
    "log_name = 'DP_PiLine_Diakoptics'\n",
    "print(work_dir + log_name + '.csv')\n",
    "piline_diakoptics = rt.read_timeseries_dpsim(work_dir + log_name + '.csv')\n",
    "piline_diakoptics_emt = ts.frequency_shift_list(piline_diakoptics, 50)"
   ]
  },
  {
   "cell_type": "code",
   "execution_count": null,
   "metadata": {},
   "outputs": [],
   "source": [
    "plt.plot(piline_diakoptics_emt['v1_shift'].time, piline_diakoptics_emt['v1_shift'].values)\n",
    "plt.plot(piline_diakoptics_emt['v2_shift'].time, piline_diakoptics_emt['v2_shift'].values)\n",
    "#plt.xlim([0,0.02])"
   ]
  },
  {
   "cell_type": "markdown",
   "metadata": {},
   "source": [
    "## Decoupling Line"
   ]
  },
  {
   "cell_type": "code",
   "execution_count": null,
   "metadata": {},
   "outputs": [],
   "source": [
    "%%bash\n",
    "TOP=${TOP:-$(git rev-parse --show-toplevel)}\n",
    "PATH=${TOP}/build/Examples/Cxx\n",
    "\n",
    "DP_DecouplingLine"
   ]
  },
  {
   "cell_type": "code",
   "execution_count": null,
   "metadata": {},
   "outputs": [],
   "source": [
    "work_dir = 'logs/DP_Decoupling_Wave/'\n",
    "log_name = 'DP_Decoupling_Wave'\n",
    "print(work_dir + log_name + '.csv')\n",
    "decoupling_wave = rt.read_timeseries_dpsim(work_dir + log_name + '.csv')\n",
    "decoupling_wave_emt = ts.frequency_shift_list(decoupling_wave, 50)"
   ]
  },
  {
   "cell_type": "code",
   "execution_count": null,
   "metadata": {},
   "outputs": [],
   "source": [
    "plt.plot(decoupling_wave_emt['v1_shift'].time, decoupling_wave_emt['v1_shift'].values)\n",
    "plt.plot(decoupling_wave_emt['v2_shift'].time, decoupling_wave_emt['v2_shift'].values)\n",
    "#plt.xlim([0,0.02])"
   ]
  },
  {
   "cell_type": "code",
   "execution_count": null,
   "metadata": {},
   "outputs": [],
   "source": [
    "plt.plot(decoupling_wave_emt['i1_shift'].time, decoupling_wave_emt['i1_shift'].values)\n",
    "plt.plot(decoupling_wave_emt['i2_shift'].time, decoupling_wave_emt['i2_shift'].values)\n",
    "#plt.xlim([0.02,0.1])\n",
    "#plt.ylim([-20,20])"
   ]
  },
  {
   "cell_type": "code",
   "execution_count": null,
   "metadata": {},
   "outputs": [],
   "source": [
    "plt.plot(decoupling_wave_emt['i_src1_shift'].time, decoupling_wave_emt['i_src1_shift'].values)\n",
    "plt.plot(decoupling_wave_emt['i_src2_shift'].time, decoupling_wave_emt['i_src2_shift'].values)\n",
    "#plt.xlim([0.02,0.1])\n",
    "#plt.ylim([-20,20])"
   ]
  },
  {
   "cell_type": "code",
   "execution_count": null,
   "metadata": {},
   "outputs": [],
   "source": [
    "i_src1_phasor = decoupling_wave['i_src1'].phasor()\n",
    "i_src2_phasor = decoupling_wave['i_src2'].phasor()\n",
    "plt.plot(i_src1_phasor['abs'].time, i_src1_phasor['abs'].values)\n",
    "plt.plot(i_src2_phasor['abs'].time, i_src2_phasor['abs'].values)\n",
    "#plt.xlim([0.04,0.06])\n",
    "#plt.ylim([220,280])"
   ]
  },
  {
   "cell_type": "code",
   "execution_count": null,
   "metadata": {},
   "outputs": [],
   "source": [
    "work_dir = 'logs/EMT_Decoupling_Wave/'\n",
    "log_name = 'EMT_Decoupling_Wave'\n",
    "print(work_dir + log_name + '.csv')\n",
    "emt_decoupling_wave = rt.read_timeseries_dpsim(work_dir + log_name + '.csv')"
   ]
  },
  {
   "cell_type": "code",
   "execution_count": null,
   "metadata": {},
   "outputs": [],
   "source": [
    "plt.plot(emt_decoupling_wave['v1'].time, emt_decoupling_wave['v1'].values)\n",
    "plt.plot(emt_decoupling_wave['v2'].time, emt_decoupling_wave['v2'].values)\n",
    "#plt.xlim([0,0.02])"
   ]
  },
  {
   "cell_type": "code",
   "execution_count": null,
   "metadata": {},
   "outputs": [],
   "source": [
    "plt.plot(emt_decoupling_wave['i_src1'].time, emt_decoupling_wave['i_src1'].values)\n",
    "plt.plot(emt_decoupling_wave['i_src2'].time, emt_decoupling_wave['i_src2'].values)\n",
    "#plt.xlim([0,0.02])"
   ]
  },
  {
   "cell_type": "code",
   "execution_count": null,
   "metadata": {},
   "outputs": [],
   "source": [
    "plt.plot(emt_decoupling_wave['i1'].time, emt_decoupling_wave['i1'].values)\n",
    "plt.plot(emt_decoupling_wave['i2'].time, emt_decoupling_wave['i2'].values)\n",
    "#plt.xlim([0,0.02])"
   ]
  },
  {
   "cell_type": "code",
   "execution_count": null,
   "metadata": {},
   "outputs": [],
   "source": [
    "plt.plot(emt_decoupling_wave['i1'].time, emt_decoupling_wave['i1'].values, color = '#939393ff', label = 'i1_emt')\n",
    "plt.plot(emt_decoupling_wave['i2'].time, emt_decoupling_wave['i2'].values, color = '#939393ff', label = 'i2_emt')\n",
    "plt.plot(decoupling_wave_emt['i1_shift'].time, decoupling_wave_emt['i1_shift'].values, linestyle=':', color = '#0055ffff', label = 'i1_dp')\n",
    "plt.plot(decoupling_wave_emt['i2_shift'].time, decoupling_wave_emt['i2_shift'].values, linestyle=':', color = '#d62728ff', label = 'i2_dp')\n",
    "plt.legend()\n",
    "plt.xlabel('time (s)')\n",
    "plt.ylabel('current (A)')\n",
    "#plt.xlim([0.02,0.1])\n",
    "#plt.ylim([-20,20])\n",
    "plt.savefig('tlm_dp_emt_current.pdf')"
   ]
  },
  {
   "cell_type": "code",
   "execution_count": null,
   "metadata": {},
   "outputs": [],
   "source": [
    "plt.plot(emt_decoupling_wave['v1'].time, emt_decoupling_wave['v1'].values, color = '#939393ff', label = 'v1_emt')\n",
    "plt.plot(emt_decoupling_wave['v2'].time, emt_decoupling_wave['v2'].values, color = '#939393ff', label = 'v2_emt')\n",
    "plt.plot(decoupling_wave_emt['v1_shift'].time, decoupling_wave_emt['v1_shift'].values, linestyle=':', color = '#0055ffff', label = 'v1_dp')\n",
    "plt.plot(decoupling_wave_emt['v2_shift'].time, decoupling_wave_emt['v2_shift'].values, linestyle=':', color = '#d62728ff', label = 'v1_dp')\n",
    "plt.legend()\n",
    "plt.xlabel('time (s)')\n",
    "plt.ylabel('voltage (V)')\n",
    "#plt.xlim([0.02,0.1])\n",
    "#plt.ylim([-20,20])\n",
    "plt.savefig('tlm_dp_emt_voltage.pdf')"
   ]
  },
  {
   "cell_type": "code",
   "execution_count": null,
   "metadata": {},
   "outputs": [],
   "source": []
  }
 ],
 "metadata": {
  "kernelspec": {
   "display_name": "Python 3",
   "language": "python",
   "name": "python3"
  },
  "language_info": {
   "codemirror_mode": {
    "name": "ipython",
    "version": 3
   },
   "file_extension": ".py",
   "mimetype": "text/x-python",
   "name": "python",
   "nbconvert_exporter": "python",
   "pygments_lexer": "ipython3",
   "version": "3.7.5"
  }
 },
 "nbformat": 4,
 "nbformat_minor": 4
}
