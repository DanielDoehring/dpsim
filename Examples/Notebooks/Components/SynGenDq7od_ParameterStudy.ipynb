{
 "cells": [
  {
   "cell_type": "markdown",
   "metadata": {},
   "source": [
    "# Sychronous Generator Load Step Parameter Study"
   ]
  },
  {
   "cell_type": "markdown",
   "metadata": {},
   "source": [
    "## Run"
   ]
  },
  {
   "cell_type": "code",
   "execution_count": null,
   "metadata": {},
   "outputs": [],
   "source": [
    "%%bash\n",
    "TOP=${TOP:-$(git rev-parse --show-toplevel)}\n",
    "PATH=${TOP}/build/Examples/Cxx\n",
    "\n",
    "DP_EMT_SynGenDq7odODE_ThreePhFault"
   ]
  },
  {
   "cell_type": "code",
   "execution_count": null,
   "metadata": {},
   "outputs": [],
   "source": [
    "%%bash\n",
    "TOP=${TOP:-$(git rev-parse --show-toplevel)}\n",
    "PATH=${TOP}/build/Examples/Cxx\n",
    "\n",
    "DP_EMT_SynGenDq7odTrapez_ThreePhFault"
   ]
  },
  {
   "cell_type": "markdown",
   "metadata": {},
   "source": [
    "## Evaluation"
   ]
  },
  {
   "cell_type": "code",
   "execution_count": null,
   "metadata": {},
   "outputs": [],
   "source": [
    "import villas.dataprocessing.readtools as rt\n",
    "from villas.dataprocessing.timeseries import TimeSeries as ts\n",
    "import matplotlib.pyplot as plt\n",
    "import pandas as pd"
   ]
  },
  {
   "cell_type": "code",
   "execution_count": null,
   "metadata": {},
   "outputs": [],
   "source": [
    "%%capture\n",
    "result_list = []\n",
    "for ts_idx in range(1,21):\n",
    "    for load_idx in range(0,11):\n",
    "        log_dir = '../../../logs/'\n",
    "        log_name = log_dir+'EMT_SynGenDq7odODE_T' + str(ts_idx) + '_L' + str(load_idx) + '/' \\\n",
    "            'EMT_SynGenDq7odODE_T' + str(ts_idx) + '_L' + str(load_idx)\n",
    "    \n",
    "        ts_curr = rt.read_timeseries_dpsim(log_name + '.csv')\n",
    "        if ts_idx > 1:\n",
    "            ts_curr = ts.interpolate_list(ts_curr, 0.00005)\n",
    "        result_list.append({'timestep': ts_idx, 'load': load_idx, 'values': ts_curr})      \n",
    "        \n",
    "pd_emt_ode = pd.DataFrame(result_list)"
   ]
  },
  {
   "cell_type": "code",
   "execution_count": null,
   "metadata": {},
   "outputs": [],
   "source": [
    "pd_emt_ode"
   ]
  },
  {
   "cell_type": "code",
   "execution_count": null,
   "metadata": {},
   "outputs": [],
   "source": [
    "loadstep = 8\n",
    "timestep = 1\n",
    "curr = pd_emt_ode.query('timestep=='+str(timestep)+' and load=='+str(loadstep))['values'].values[0]\n",
    "plt.plot(curr['i_gen_0'].time, curr['i_gen_0'].values, color = '#939393ff')\n",
    "plt.plot(curr['i_gen_1'].time, curr['i_gen_1'].values, color = '#939393ff')\n",
    "plt.plot(curr['i_gen_2'].time, curr['i_gen_2'].values, color = '#939393ff')\n",
    "\n",
    "timestep = 8\n",
    "curr = pd_emt_ode.query('timestep=='+str(timestep)+' and load=='+str(loadstep))['values'].values[0]\n",
    "plt.plot(curr['i_gen_0_intpl'].time, curr['i_gen_0_intpl'].values, linestyle='-.')\n",
    "plt.plot(curr['i_gen_1_intpl'].time, curr['i_gen_1_intpl'].values, linestyle='-.')\n",
    "plt.plot(curr['i_gen_2_intpl'].time, curr['i_gen_2_intpl'].values, linestyle='-.')\n",
    "\n",
    "#plt.xlim([0.19,0.21])\n",
    "plt.xlim([0.09,0.12])\n",
    "#plt.ylim([-15000,15000])"
   ]
  },
  {
   "cell_type": "code",
   "execution_count": null,
   "metadata": {},
   "outputs": [],
   "source": [
    "loadstep = 2\n",
    "timestep = 2\n",
    "curr = pd_emt_ode.query('timestep=='+str(1)+' and load=='+str(loadstep))['values'].values[0]\n",
    "curr_ts = pd_emt_ode.query('timestep=='+str(timestep)+' and load=='+str(loadstep))['values'].values[0]\n",
    "min_length = 3000 #min(curr['i_gen_0'].values.shape, curr_ts['i_gen_0_intpl'].values.shape)[0]\n",
    "plt.plot(curr['i_gen_0'].time[:min_length], curr['i_gen_0'].values[:min_length] - curr_ts['i_gen_0_intpl'].values[:min_length])\n",
    "plt.plot(curr['i_gen_1'].time[:min_length], curr['i_gen_1'].values[:min_length] - curr_ts['i_gen_1_intpl'].values[:min_length])\n",
    "plt.plot(curr['i_gen_2'].time[:min_length], curr['i_gen_2'].values[:min_length] - curr_ts['i_gen_2_intpl'].values[:min_length])\n",
    "\n",
    "#plt.xlim([0.09,0.15])\n",
    "#plt.ylim([-2000,2000])\n",
    "#plt.xlim([0.19,0.21])\n",
    "#plt.ylim([-15000,15000])"
   ]
  },
  {
   "cell_type": "code",
   "execution_count": null,
   "metadata": {},
   "outputs": [],
   "source": [
    "import numpy as np\n",
    "\n",
    "def calc_dpsim_variable_timestep_mae(ref, test_list):\n",
    "    # find the minimum number of time steps available in the list of timeseries results\n",
    "    min_length = ref.values.shape[0]\n",
    "    for test in test_list:\n",
    "        if test.values.shape[0] < min_length:\n",
    "            min_length = test.values.shape[0]\n",
    "    min_length = 3000\n",
    "    # calculate maximum amplitude of EMT reference signal to normalize error\n",
    "    max_amp = np.max(np.abs(ref.values[:min_length]))\n",
    "    print('max. amplitude: ' +str(max_amp))\n",
    "    # Calculate difference for each timeseries with respect to the 50µs reference\n",
    "    diff_list = []\n",
    "    for test in test_list:\n",
    "        diff_list.append( (test.values[:min_length] - ref.values[:min_length]) )#/ max_amp )\n",
    "\n",
    "    # calculate mean absolute error\n",
    "    mae = []\n",
    "    for diff in diff_list:\n",
    "        mae.append( np.sum(np.abs(diff)) / min_length )\n",
    "        \n",
    "    return mae, diff_list"
   ]
  },
  {
   "cell_type": "code",
   "execution_count": null,
   "metadata": {},
   "outputs": [],
   "source": [
    "mae_emt_ode_list = []\n",
    "\n",
    "for load_idx in range(0,11): \n",
    "    pd_test_list = pd_emt_ode.query('timestep > 1 and load=='+str(load_idx))\n",
    "    test_list = []\n",
    "    for index, row in pd_test_list.iterrows():\n",
    "        test_list.append(row['values']['i_gen_0_intpl'])\n",
    "    \n",
    "    ref = pd_emt_ode.query('timestep == 1 and load=='+str(load_idx)).iloc[0]['values']['i_gen_0']\n",
    "    mae_emt_ode, diff_list = calc_dpsim_variable_timestep_mae(ref, test_list)\n",
    "    mae_emt_ode_list.append(mae_emt_ode)\n",
    "    #print(mae_emt_ode)"
   ]
  },
  {
   "cell_type": "code",
   "execution_count": null,
   "metadata": {},
   "outputs": [],
   "source": [
    "timesteps = np.arange(2,21)*0.00005\n",
    "for load_idx in range(1,11,2):  \n",
    "    plt.plot(timesteps, mae_emt_ode_list[load_idx], 'o-', label='step '+str(load_idx))\n",
    "plt.legend()\n",
    "#plt.ylim([-0.01,0.1])\n",
    "plt.ylim([0,3000])\n",
    "plt.xlim([0,0.0009])\n",
    "\n",
    "plt.xlabel('timestep (s)')\n",
    "plt.ylabel('mean absolute error current (A)')\n",
    "plt.grid()\n",
    "plt.legend()\n",
    "plt.tight_layout()\n",
    "plt.savefig('emt_ode_syngen_mae.pdf')"
   ]
  },
  {
   "cell_type": "markdown",
   "metadata": {},
   "source": [
    "### DP ODE"
   ]
  },
  {
   "cell_type": "code",
   "execution_count": null,
   "metadata": {},
   "outputs": [],
   "source": [
    "%%capture\n",
    "result_list = []\n",
    "for ts_idx in range(1,21):\n",
    "    for load_idx in range(0,11):\n",
    "        log_dir = '../../../logs/'\n",
    "        log_name = log_dir+'DP_SynGenDq7odODE_T' + str(ts_idx) + '_L' + str(load_idx) + '/' \\\n",
    "            'DP_SynGenDq7odODE_T' + str(ts_idx) + '_L' + str(load_idx)\n",
    "    \n",
    "        ts_curr = rt.read_timeseries_dpsim(log_name + '.csv')\n",
    "        if ts_idx > 1:\n",
    "            ts_curr = ts.interpolate_list(ts_curr, 0.00005)\n",
    "        ts_curr = ts.frequency_shift_list(ts_curr, 60)\n",
    "        result_list.append({'timestep': ts_idx, 'load': load_idx, 'values': ts_curr})      \n",
    "        \n",
    "pd_dp_ode = pd.DataFrame(result_list)"
   ]
  },
  {
   "cell_type": "code",
   "execution_count": null,
   "metadata": {},
   "outputs": [],
   "source": [
    "pd_dp_ode"
   ]
  },
  {
   "cell_type": "code",
   "execution_count": null,
   "metadata": {},
   "outputs": [],
   "source": [
    "mae_dp_ode_list = []\n",
    "\n",
    "for load_idx in range(0,11): \n",
    "    pd_test_list = pd_dp_ode.query('timestep > 1 and load=='+str(load_idx))\n",
    "    test_list = []\n",
    "    for index, row in pd_test_list.iterrows():\n",
    "        test_list.append(row['values']['i_gen_0_intpl_shift'])\n",
    "    \n",
    "    ref = pd_dp_ode.query('timestep == 1 and load=='+str(load_idx)).iloc[0]['values']['i_gen_0_shift']\n",
    "    mae, diff_list = calc_dpsim_variable_timestep_mae(ref, test_list)\n",
    "    #print(mae)\n",
    "    mae_dp_ode_list.append(mae)    "
   ]
  },
  {
   "cell_type": "code",
   "execution_count": null,
   "metadata": {},
   "outputs": [],
   "source": [
    "timesteps = np.arange(2,21)*0.00005\n",
    "for load_idx in range(1,11,2):  \n",
    "    plt.plot(timesteps, mae_dp_ode_list[load_idx], 'o-', label='load '+str(load_idx))\n",
    "plt.legend()\n",
    "#plt.ylim([-0.01,0.3])\n",
    "plt.ylim([0,200])\n",
    "plt.xlim([0,0.0009])\n",
    "\n",
    "plt.xlabel('timestep (s)')\n",
    "plt.ylabel('mean absolute error current (A)')\n",
    "plt.grid()\n",
    "plt.legend()\n",
    "plt.tight_layout()\n",
    "plt.savefig('dp_ode_syngen_mae.pdf')"
   ]
  },
  {
   "cell_type": "markdown",
   "metadata": {},
   "source": [
    "### EMT Trapez"
   ]
  },
  {
   "cell_type": "code",
   "execution_count": null,
   "metadata": {},
   "outputs": [],
   "source": [
    "%%capture\n",
    "result_list = []\n",
    "for ts_idx in range(1,21):\n",
    "    for load_idx in range(0,11):\n",
    "        log_dir = '../../../logs/'\n",
    "        log_name = '../../../logs/EMT_SynGenDq7odTrapez_T' + str(ts_idx) + '_L' + str(load_idx) + '/' \\\n",
    "            'EMT_SynGenDq7odTrapez_T' + str(ts_idx) + '_L' + str(load_idx)\n",
    "    \n",
    "        ts_curr = rt.read_timeseries_dpsim(log_name + '.csv')\n",
    "        if ts_idx > 1:\n",
    "            ts_curr = ts.interpolate_list(ts_curr, 0.00005)          \n",
    "        result_list.append({'timestep': ts_idx, 'load': load_idx, 'values': ts_curr})      \n",
    "        \n",
    "pd_emt_trapez = pd.DataFrame(result_list)"
   ]
  },
  {
   "cell_type": "code",
   "execution_count": null,
   "metadata": {},
   "outputs": [],
   "source": [
    "pd_emt_trapez"
   ]
  },
  {
   "cell_type": "code",
   "execution_count": null,
   "metadata": {},
   "outputs": [],
   "source": [
    "mae_emt_trapez_list = []\n",
    "for load_idx in range(0,11): \n",
    "    pd_test_list = pd_emt_trapez.query('timestep > 1 and load=='+str(load_idx))\n",
    "    test_list = []\n",
    "    for index, row in pd_test_list.iterrows():\n",
    "        test_list.append(row['values']['i_gen_0_intpl'])\n",
    "    \n",
    "    ref = pd_emt_trapez.query('timestep == 1 and load=='+str(load_idx)).iloc[0]['values']['i_gen_0']\n",
    "    mae, diff_list = calc_dpsim_variable_timestep_mae(ref, test_list)\n",
    "    #print(mae)\n",
    "    mae_emt_trapez_list.append(mae) "
   ]
  },
  {
   "cell_type": "code",
   "execution_count": null,
   "metadata": {},
   "outputs": [],
   "source": [
    "timesteps = np.arange(2,21)*0.00005\n",
    "for load_idx in range(1,11,2):  \n",
    "    plt.plot(timesteps, mae_emt_trapez_list[load_idx], 'o-', label='load '+str(load_idx))\n",
    "plt.legend()\n",
    "#plt.ylim([-0.01,0.3])\n",
    "plt.ylim([0,3000])\n",
    "plt.xlim([0,0.0009])\n",
    "\n",
    "plt.xlabel('timestep (s)')\n",
    "plt.ylabel('mean absolute error current (A)')\n",
    "plt.grid()\n",
    "plt.legend()\n",
    "plt.tight_layout()\n",
    "plt.savefig('dp_trpz_syngen_mae.pdf')"
   ]
  },
  {
   "cell_type": "markdown",
   "metadata": {},
   "source": [
    "### DP Trapez"
   ]
  },
  {
   "cell_type": "code",
   "execution_count": null,
   "metadata": {},
   "outputs": [],
   "source": [
    "%%capture\n",
    "result_list = []\n",
    "for ts_idx in range(1,21):\n",
    "    for load_idx in range(0,11):\n",
    "        log_dir = '../../../logs/'\n",
    "        log_name = log_dir+'DP_SynGenDq7odTrapez_T' + str(ts_idx) + '_L' + str(load_idx) + '/' \\\n",
    "            'DP_SynGenDq7odTrapez_T' + str(ts_idx) + '_L' + str(load_idx)\n",
    "    \n",
    "        ts_curr = rt.read_timeseries_dpsim(log_name + '.csv')\n",
    "        if ts_idx > 1:\n",
    "            ts_curr = ts.interpolate_list(ts_curr, 0.00005)            \n",
    "        ts_curr = ts.frequency_shift_list(ts_curr, 60)\n",
    "        result_list.append({'timestep': ts_idx, 'load': load_idx, 'values': ts_curr})      \n",
    "\n",
    "pd_dp_trapez = pd.DataFrame(result_list)"
   ]
  },
  {
   "cell_type": "code",
   "execution_count": null,
   "metadata": {},
   "outputs": [],
   "source": [
    "pd_dp_trapez"
   ]
  },
  {
   "cell_type": "code",
   "execution_count": null,
   "metadata": {},
   "outputs": [],
   "source": [
    "mae_dp_trapez_list = []\n",
    "for load_idx in range(0,11): \n",
    "    pd_test_list = pd_dp_trapez.query('timestep > 1 and load=='+str(load_idx))\n",
    "    test_list = []\n",
    "    for index, row in pd_test_list.iterrows():\n",
    "        test_list.append(row['values']['i_gen_0_intpl_shift'])\n",
    "    \n",
    "    ref = pd_dp_trapez.query('timestep == 1 and load=='+str(load_idx)).iloc[0]['values']['i_gen_0_shift']\n",
    "    mae, diff_list = calc_dpsim_variable_timestep_mae(ref, test_list)\n",
    "    #print(mae)\n",
    "    mae_dp_trapez_list.append(mae) "
   ]
  },
  {
   "cell_type": "code",
   "execution_count": null,
   "metadata": {},
   "outputs": [],
   "source": [
    "timesteps = np.arange(2,21)*0.00005\n",
    "for load_idx in range(1,11,2):  \n",
    "    plt.plot(timesteps, mae_dp_trapez_list[load_idx], 'o-', label='load '+str(load_idx))\n",
    "plt.legend()\n",
    "#plt.ylim([-0.01,0.3])\n",
    "plt.xlim([0,0.0009])\n",
    "plt.ylim([0,200])\n",
    "\n",
    "plt.xlabel('timestep (s)')\n",
    "plt.ylabel('mean absolute error current (A)')\n",
    "plt.grid()\n",
    "plt.legend()\n",
    "plt.tight_layout()\n",
    "plt.savefig('emt_trpz_syngen_mae.pdf')"
   ]
  },
  {
   "cell_type": "code",
   "execution_count": null,
   "metadata": {},
   "outputs": [],
   "source": [
    "timesteps = np.arange(2,21)*0.00005\n",
    "for load_idx in range(1,11,2):  \n",
    "    plt.plot(timesteps, mae_dp_trapez_list[load_idx], 'o-', label='load '+str(load_idx))\n",
    "plt.legend()\n",
    "#plt.ylim([-0.01,0.3])\n",
    "#plt.xlim([0,0.0009])\n",
    "#plt.ylim([0,200])\n",
    "\n",
    "plt.xlabel('timestep (s)')\n",
    "plt.ylabel('mean absolute error current (A)')\n",
    "plt.grid()\n",
    "plt.legend()\n",
    "plt.tight_layout()\n",
    "plt.savefig('emt_trpz_syngen_mae.pdf')"
   ]
  },
  {
   "cell_type": "code",
   "execution_count": null,
   "metadata": {},
   "outputs": [],
   "source": [
    "loadstep = 5\n",
    "curr = pd_dp_trapez.query('timestep=='+str(1)+' and load=='+str(loadstep))['values'].values[0]\n",
    "plt.plot(curr['i_gen_0_shift'].time, curr['i_gen_0_shift'].values, color = '#939393ff')\n",
    "plt.plot(curr['i_gen_1_shift'].time, curr['i_gen_1_shift'].values, color = '#939393ff')\n",
    "plt.plot(curr['i_gen_2_shift'].time, curr['i_gen_2_shift'].values, color = '#939393ff')\n",
    "\n",
    "timestep = 12\n",
    "curr = pd_dp_trapez.query('timestep=='+str(timestep)+' and load=='+str(loadstep))['values'].values[0]\n",
    "plt.plot(curr['i_gen_0_intpl_shift'].time, curr['i_gen_0_intpl_shift'].values, linestyle='-.')\n",
    "plt.plot(curr['i_gen_1_intpl_shift'].time, curr['i_gen_1_intpl_shift'].values, linestyle='-.')\n",
    "plt.plot(curr['i_gen_2_intpl_shift'].time, curr['i_gen_2_intpl_shift'].values, linestyle='-.')"
   ]
  },
  {
   "cell_type": "code",
   "execution_count": null,
   "metadata": {},
   "outputs": [],
   "source": []
  }
 ],
 "metadata": {
  "kernelspec": {
   "display_name": "Python 3",
   "language": "python",
   "name": "python3"
  },
  "language_info": {
   "codemirror_mode": {
    "name": "ipython",
    "version": 3
   },
   "file_extension": ".py",
   "mimetype": "text/x-python",
   "name": "python",
   "nbconvert_exporter": "python",
   "pygments_lexer": "ipython3",
   "version": "3.7.5"
  },
  "tests": {
   "skip": true
  }
 },
 "nbformat": 4,
 "nbformat_minor": 4
}
