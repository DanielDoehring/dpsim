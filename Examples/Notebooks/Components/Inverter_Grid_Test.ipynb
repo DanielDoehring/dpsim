{
 "cells": [
  {
   "cell_type": "markdown",
   "metadata": {},
   "source": [
    "# Inverter Grid Test"
   ]
  },
  {
   "cell_type": "code",
   "execution_count": null,
   "metadata": {},
   "outputs": [],
   "source": [
    "%%bash\n",
    "TOP=${TOP:-$(git rev-parse --show-toplevel)}\n",
    "PATH=${TOP}/build/Examples/Cxx\n",
    "\n",
    "DP_Inverter_Grid_Test"
   ]
  },
  {
   "cell_type": "code",
   "execution_count": null,
   "metadata": {},
   "outputs": [],
   "source": [
    "import villas.dataprocessing.readtools as rt\n",
    "from villas.dataprocessing.timeseries import TimeSeries\n",
    "import matplotlib.pyplot as plt\n",
    "import numpy as np"
   ]
  },
  {
   "cell_type": "code",
   "execution_count": null,
   "metadata": {},
   "outputs": [],
   "source": [
    "# read results\n",
    "logs_dir = '../../../logs_inverter/'\n",
    "work_dir = 'logs/DP_Inverter_Grid_Test/'\n",
    "log_name = 'DP_Inverter_Grid_Test'\n",
    "log_path =  logs_dir + 'DP_Inverter_Grid_Test/' + 'DP_Inverter_Grid_Test.csv'\n",
    "print(log_path)\n",
    "\n",
    "ts_dpsim = rt.read_timeseries_dpsim(log_path)"
   ]
  },
  {
   "cell_type": "code",
   "execution_count": null,
   "metadata": {},
   "outputs": [],
   "source": [
    "ts_list_v1 = [\n",
    "    ts_dpsim['v1_0_0'],\n",
    "    ts_dpsim['v1_0_1'],\n",
    "    ts_dpsim['v1_0_2'],\n",
    "    ts_dpsim['v1_0_3'],\n",
    "    ts_dpsim['v1_0_4'],\n",
    "    ts_dpsim['v1_0_5'],\n",
    "    ts_dpsim['v1_0_6'],\n",
    "    ts_dpsim['v1_0_7'],\n",
    "    ts_dpsim['v1_0_8']]\n",
    "\n",
    "ts_list_v3 = [\n",
    "    ts_dpsim['v3_0_0'],\n",
    "    ts_dpsim['v3_0_1'],\n",
    "    ts_dpsim['v3_0_2'],\n",
    "    ts_dpsim['v3_0_3'],\n",
    "    ts_dpsim['v3_0_4'],\n",
    "    ts_dpsim['v3_0_5'],\n",
    "    ts_dpsim['v3_0_6'],\n",
    "    ts_dpsim['v3_0_7'],\n",
    "    ts_dpsim['v3_0_8']]\n",
    "\n",
    "freq_list = [ 50,\n",
    "    19850, 19950, 20050, 20150,\n",
    "    39750, 39950, 40050, 40250 ]"
   ]
  },
  {
   "cell_type": "code",
   "execution_count": null,
   "metadata": {},
   "outputs": [],
   "source": [
    "ts_dpsim_emt_v1 = TimeSeries.create_emt_from_dp(ts_list_v1, freq_list)\n",
    "plt.plot(ts_dpsim_emt_v1.time, ts_dpsim_emt_v1.values)\n",
    "plt.xlim(0, 0.05)"
   ]
  },
  {
   "cell_type": "code",
   "execution_count": null,
   "metadata": {},
   "outputs": [],
   "source": [
    "ts_dpsim_emt_v3 = TimeSeries.create_emt_from_dp(ts_list_v3, freq_list)\n",
    "plt.plot(ts_dpsim_emt_v3.time, ts_dpsim_emt_v3.values)\n",
    "plt.xlim(0, 0.05)"
   ]
  },
  {
   "cell_type": "code",
   "execution_count": null,
   "metadata": {},
   "outputs": [],
   "source": [
    "ts_dpsim_emt_v5 = ts_dpsim['v5_0_0'].frequency_shift(50)\n",
    "\n",
    "plt.plot(ts_dpsim_emt_v1.time, ts_dpsim_emt_v1.values)\n",
    "plt.plot(ts_dpsim_emt_v3.time, ts_dpsim_emt_v3.values)\n",
    "plt.plot(ts_dpsim_emt_v5.time, ts_dpsim_emt_v5.values, linestyle='--')\n",
    "plt.xlim(0, 0.05)"
   ]
  },
  {
   "cell_type": "markdown",
   "metadata": {},
   "source": [
    "## Validation against Matlab model"
   ]
  },
  {
   "cell_type": "markdown",
   "metadata": {},
   "source": [
    "The Matlab model is considering 4 harmonics only. Therefore the DPsim results might be slightly different depending on the number of considered harmonics."
   ]
  },
  {
   "cell_type": "code",
   "execution_count": null,
   "metadata": {},
   "outputs": [],
   "source": [
    "import os\n",
    "import urllib.request\n",
    "\n",
    "if not os.path.exists('reference-results'):\n",
    "    os.mkdir('reference-results')\n",
    "\n",
    "url = 'https://git.rwth-aachen.de/acs/public/simulation/reference-results/raw/master/Simulink/Inverter/ML_SP_Inverter_OL_v_i.csv'\n",
    "local_file = 'reference-results/ML_SP_Inverter_OL_v_i.csv'\n",
    "urllib.request.urlretrieve(url, local_file) \n",
    "\n",
    "ts_ml_inverter = rt.read_timeseries_simulink(local_file)"
   ]
  },
  {
   "cell_type": "code",
   "execution_count": null,
   "metadata": {},
   "outputs": [],
   "source": [
    "plt.plot(ts_ml_inverter['v_inv'].time, ts_ml_inverter['v_inv'].values)\n",
    "\n",
    "#plt.figure(figsize=(20,10))\n",
    "plt.figure()\n",
    "plt.plot(ts_ml_inverter['v_c'].time, ts_ml_inverter['v_c'].values)\n",
    "plt.plot(ts_dpsim_emt_v3.time, ts_dpsim_emt_v3.values)\n",
    "plt.xlim(0.0245, 0.0255)\n",
    "plt.ylim(308, 315)"
   ]
  },
  {
   "cell_type": "code",
   "execution_count": null,
   "metadata": {},
   "outputs": [],
   "source": [
    "import numpy as np\n",
    "diff = ts_ml_inverter['v_c'].values[:5000] - np.interp(ts_ml_inverter['v_c'].time[:5000], ts_dpsim_emt_v3.time, ts_dpsim_emt_v3.values)\n",
    "assert np.all(diff) < 10"
   ]
  },
  {
   "cell_type": "markdown",
   "metadata": {},
   "source": [
    "## Validation against Simulink switching model"
   ]
  },
  {
   "cell_type": "code",
   "execution_count": null,
   "metadata": {},
   "outputs": [],
   "source": [
    "import os\n",
    "import urllib.request\n",
    "\n",
    "if not os.path.exists('reference-results'):\n",
    "    os.mkdir('reference-results')\n",
    "\n",
    "url = 'https://git.rwth-aachen.de/acs/public/simulation/reference-results/raw/master/Simulink/Inverter/SL_SP_Inverter_OL_v_i.csv'\n",
    "local_file = 'reference-results/SL_SP_Inverter_OL_v_i.csv'\n",
    "urllib.request.urlretrieve(url, local_file) \n",
    "\n",
    "ts_sl_inverter = rt.read_timeseries_simulink(local_file)"
   ]
  },
  {
   "cell_type": "code",
   "execution_count": null,
   "metadata": {},
   "outputs": [],
   "source": [
    "plt.plot(ts_sl_inverter['v_inv'].time, ts_sl_inverter['v_inv'].values)"
   ]
  },
  {
   "cell_type": "code",
   "execution_count": null,
   "metadata": {},
   "outputs": [],
   "source": [
    "plt.plot(ts_sl_inverter['v_c'].time, ts_sl_inverter['v_c'].values, label='EMT')\n",
    "plt.plot(ts_dpsim_emt_v3.time, ts_dpsim_emt_v3.values, label='DP', linestyle='--')\n",
    "\n",
    "ax = plt.gca()\n",
    "ax.xaxis.set_major_locator(plt.MaxNLocator(5))\n",
    "plt.xlim(0.0445,0.0456)\n",
    "plt.ylim(308,315)\n",
    "plt.xlabel('time (s)')\n",
    "plt.ylabel('voltage (V)')\n",
    "plt.grid()\n",
    "plt.legend(loc='upper right')\n",
    "#ax = plt.gca()\n",
    "#ax.xaxis.set_major_locator(plt.MaxNLocator(5))\n",
    "plt.tight_layout()\n",
    "plt.savefig('dp_simulink_inv_8_harm.pdf')\n",
    "plt.savefig('dp_simulink_inv_8_harm.png', dpi=300)"
   ]
  },
  {
   "cell_type": "code",
   "execution_count": null,
   "metadata": {},
   "outputs": [],
   "source": [
    "plt.plot(ts_sl_inverter['v_c'].time, ts_sl_inverter['v_c'].values, label='simulink')\n",
    "plt.plot(ts_dpsim_emt_v3.time, ts_dpsim_emt_v3.values, linestyle=\":\", label='dyn. phasor')\n",
    "plt.xlim(0, 0.05)\n",
    "\n",
    "plt.xlabel('time (s)')\n",
    "plt.ylabel('voltage (V)')\n",
    "plt.grid()\n",
    "plt.legend(loc='lower right')\n",
    "plt.tight_layout()\n",
    "\n",
    "plt.savefig('dp_simulink_inv_8_harm_complete.pdf')\n",
    "plt.savefig('dp_simulink_inv_8_harm_complete.png', dpi=300)"
   ]
  },
  {
   "cell_type": "code",
   "execution_count": null,
   "metadata": {},
   "outputs": [],
   "source": []
  }
 ],
 "metadata": {
  "kernelspec": {
   "display_name": "Python 3",
   "language": "python",
   "name": "python3"
  },
  "language_info": {
   "codemirror_mode": {
    "name": "ipython",
    "version": 3
   },
   "file_extension": ".py",
   "mimetype": "text/x-python",
   "name": "python",
   "nbconvert_exporter": "python",
   "pygments_lexer": "ipython3",
   "version": "3.7.5"
  },
  "tests": {
   "skip": true
  }
 },
 "nbformat": 4,
 "nbformat_minor": 4
}
