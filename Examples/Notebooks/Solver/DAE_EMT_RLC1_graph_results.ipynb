{
 "cells": [
  {
   "cell_type": "code",
   "execution_count": null,
   "metadata": {},
   "outputs": [],
   "source": [
    "%%bash\n",
    "mkdir -p logs\n",
    "TOP=${TOP:-$(git rev-parse --show-toplevel)}\n",
    "PATH=${TOP}/build/Examples/Cxx\n",
    "${PATH}/DAE_EMT_RLC1"
   ]
  },
  {
   "cell_type": "code",
   "execution_count": null,
   "metadata": {},
   "outputs": [],
   "source": [
    "# read Simulink log file\n",
    "\n",
    "import os\n",
    "print(os.getcwd())\n",
    "\n",
    "import matplotlib.pyplot as plt\n",
    "import villas.dataprocessing.readtools as rt\n",
    "\n",
    "# read EMT results\n",
    "log_name = 'logs/DAE_EMT_RLC1/DAE_EMT_RLC1.csv'\n",
    "ts_dpsim_emt = rt.read_timeseries_dpsim(log_name)\n",
    "\n",
    "plt.figure(1)\n",
    "plt.plot(ts_dpsim_emt['v_l'].time, ts_dpsim_emt['v_l'].values, label='v_l EMT')\n",
    "plt.plot(ts_dpsim_emt['v_c'].time, ts_dpsim_emt['v_c'].values, label='v_c EMT')\n",
    "plt.plot(ts_dpsim_emt['v_r'].time, ts_dpsim_emt['v_r'].values, label='v_r EMT')\n",
    "plt.legend(loc='lower right')\n",
    "plt.figure(2)\n",
    "plt.plot(ts_dpsim_emt['i_c'].time, ts_dpsim_emt['i_c'].values, label='i EMT')\n",
    "plt.legend(loc='lower right')\n",
    "plt.show()"
   ]
  }
 ],
 "metadata": {
  "kernelspec": {
   "display_name": "Python 3",
   "language": "python",
   "name": "python3"
  },
  "language_info": {
   "codemirror_mode": {
    "name": "ipython",
    "version": 3
   },
   "file_extension": ".py",
   "mimetype": "text/x-python",
   "name": "python",
   "nbconvert_exporter": "python",
   "pygments_lexer": "ipython3",
   "version": "3.7.6"
  }
 },
 "nbformat": 4,
 "nbformat_minor": 4
}
