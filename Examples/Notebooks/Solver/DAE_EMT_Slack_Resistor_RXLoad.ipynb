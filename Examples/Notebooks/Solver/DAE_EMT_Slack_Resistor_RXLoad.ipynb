{
 "cells": [
  {
   "cell_type": "code",
   "execution_count": null,
   "metadata": {},
   "outputs": [],
   "source": [
    "%%bash\n",
    "mkdir -p logs\n",
    "TOP=${TOP:-$(git rev-parse --show-toplevel)}\n",
    "PATH=${TOP}/build/Examples/Cxx\n",
    "${PATH}/DAE_EMT_Slack_Resistor_RXLoad"
   ]
  },
  {
   "cell_type": "code",
   "execution_count": null,
   "metadata": {},
   "outputs": [],
   "source": [
    "# read Simulink log file\n",
    "\n",
    "import os\n",
    "print(os.getcwd())\n",
    "\n",
    "import matplotlib.pyplot as plt\n",
    "import villas.dataprocessing.readtools as rt\n",
    "\n",
    "# read EMT results\n",
    "log_name = 'logs/DAE_EMT_Slack_Resistor_RXLoad_PF_Init/DAE_EMT_Slack_Resistor_RXLoad_PF_Init.csv'\n",
    "ts_dpsim_emt = rt.read_timeseries_dpsim(log_name)\n",
    "\n",
    "plt.figure(1)\n",
    "plt.plot(ts_dpsim_emt['i_slack_0'].time, ts_dpsim_emt['i_slack_0'].values, label='i_slack_ph1 EMT')\n",
    "plt.plot(ts_dpsim_emt['i_slack_1'].time, ts_dpsim_emt['i_slack_1'].values, label='i_slack_ph2 EMT')\n",
    "plt.plot(ts_dpsim_emt['i_slack_2'].time, ts_dpsim_emt['i_slack_2'].values, label='i_slack_ph3 EMT')\n",
    "plt.legend(loc='lower right')\n",
    "\n",
    "plt.figure(2)\n",
    "plt.plot(ts_dpsim_emt['v1_0'].time, ts_dpsim_emt['v1_0'].values, label='v1_ph1 EMT')\n",
    "plt.plot(ts_dpsim_emt['v1_1'].time, ts_dpsim_emt['v1_1'].values, label='v1_ph2 EMT')\n",
    "plt.plot(ts_dpsim_emt['v1_2'].time, ts_dpsim_emt['v1_2'].values, label='v1_ph3 EMT')\n",
    "plt.legend(loc='lower right')\n",
    "plt.show()\n",
    "\n",
    "plt.figure(3)\n",
    "plt.plot(ts_dpsim_emt['v2_0'].time, ts_dpsim_emt['v2_0'].values, label='v2_ph1 EMT')\n",
    "plt.plot(ts_dpsim_emt['v2_1'].time, ts_dpsim_emt['v2_1'].values, label='v2_ph2 EMT')\n",
    "plt.plot(ts_dpsim_emt['v2_2'].time, ts_dpsim_emt['v2_2'].values, label='v2_ph3 EMT')\n",
    "plt.legend(loc='lower right')\n",
    "plt.show()"
   ]
  },
  {
   "cell_type": "code",
   "execution_count": null,
   "metadata": {},
   "outputs": [],
   "source": []
  }
 ],
 "metadata": {
  "kernelspec": {
   "display_name": "Python 3",
   "language": "python",
   "name": "python3"
  },
  "language_info": {
   "codemirror_mode": {
    "name": "ipython",
    "version": 3
   },
   "file_extension": ".py",
   "mimetype": "text/x-python",
   "name": "python",
   "nbconvert_exporter": "python",
   "pygments_lexer": "ipython3",
   "version": "3.7.6"
  }
 },
 "nbformat": 4,
 "nbformat_minor": 4
}
