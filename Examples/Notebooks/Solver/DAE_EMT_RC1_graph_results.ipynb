{
 "cells": [
  {
   "cell_type": "code",
   "execution_count": null,
   "metadata": {},
   "outputs": [],
   "source": [
    "%%bash\n",
    "mkdir -p logs\n",
    "TOP=${TOP:-$(git rev-parse --show-toplevel)}\n",
    "PATH=${TOP}/build/Examples/Cxx\n",
    "${PATH}/DAE_EMT_RC1"
   ]
  },
  {
   "cell_type": "code",
   "execution_count": null,
   "metadata": {},
   "outputs": [],
   "source": [
    "# read Simulink log file\n",
    "\n",
    "import os\n",
    "print(os.getcwd())\n",
    "\n",
    "import matplotlib.pyplot as plt\n",
    "import villas.dataprocessing.readtools as rt\n",
    "\n",
    "# read EMT results\n",
    "log_name = 'logs/DAE_EMT_VS_RC1/DAE_EMT_VS_RC1.csv'\n",
    "ts_dpsim_emt = rt.read_timeseries_dpsim(log_name)\n",
    "\n",
    "plt.figure(1)\n",
    "plt.plot(ts_dpsim_emt['v1'].time, ts_dpsim_emt['v1'].values, label='v1 EMT')\n",
    "plt.plot(ts_dpsim_emt['v2'].time, ts_dpsim_emt['v2'].values, label='v2 EMT')\n",
    "plt.legend(loc='lower right')\n",
    "plt.figure(2)\n",
    "plt.plot(ts_dpsim_emt['i_c1'].time, ts_dpsim_emt['i_c1'].values, label='i_c EMT')\n",
    "plt.legend(loc='lower right')\n",
    "plt.show()"
   ]
  }
 ],
 "metadata": {
  "kernelspec": {
   "display_name": "Python 3",
   "language": "python",
   "name": "python3"
  },
  "language_info": {
   "codemirror_mode": {
    "name": "ipython",
    "version": 3
   },
   "file_extension": ".py",
   "mimetype": "text/x-python",
   "name": "python",
   "nbconvert_exporter": "python",
   "pygments_lexer": "ipython3",
   "version": "3.7.6"
  }
 },
 "nbformat": 4,
 "nbformat_minor": 4
}
