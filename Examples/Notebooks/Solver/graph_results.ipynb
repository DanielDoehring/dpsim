{
 "cells": [
  {
   "cell_type": "code",
   "execution_count": 1,
   "metadata": {},
   "outputs": [
    {
     "name": "stdout",
     "output_type": "stream",
     "text": [
      "column number: 8\n",
      "results length: 1000\n",
      "real column names: ['i_l1', 'i_r', 'i_vs', 'v1', 'v2', 'v_l1', 'vr', 'vs']\n",
      "complex column names: []\n"
     ]
    },
    {
     "data": {
      "text/plain": [
       "<Figure size 640x480 with 1 Axes>"
      ]
     },
     "metadata": {},
     "output_type": "display_data"
    },
    {
     "data": {
      "text/plain": [
       "<Figure size 640x480 with 1 Axes>"
      ]
     },
     "metadata": {},
     "output_type": "display_data"
    }
   ],
   "source": [
    "# read Simulink log file\n",
    "\n",
    "import matplotlib.pyplot as plt\n",
    "import villas.dataprocessing.readtools as rt\n",
    "\n",
    "# read EMT results\n",
    "log_name = 'DAE_EMT_VS_RL1.csv'\n",
    "ts_dpsim_emt = rt.read_timeseries_dpsim(log_name)\n",
    "\n",
    "plt.figure(1)\n",
    "plt.plot(ts_dpsim_emt['v1'].time, ts_dpsim_emt['v1'].values, label='v1 EMT')\n",
    "plt.plot(ts_dpsim_emt['v2'].time, ts_dpsim_emt['v2'].values, label='v2 EMT')\n",
    "plt.legend(loc='lower right')\n",
    "plt.figure(2)\n",
    "plt.plot(ts_dpsim_emt['i_l1'].time, ts_dpsim_emt['i_l1'].values, label='i_l EMT')\n",
    "plt.legend(loc='lower right')\n",
    "plt.show()"
   ]
  },
  {
   "cell_type": "code",
   "execution_count": null,
   "metadata": {},
   "outputs": [],
   "source": []
  }
 ],
 "metadata": {
  "kernelspec": {
   "display_name": "Python 3",
   "language": "python",
   "name": "python3"
  },
  "language_info": {
   "codemirror_mode": {
    "name": "ipython",
    "version": 3
   },
   "file_extension": ".py",
   "mimetype": "text/x-python",
   "name": "python",
   "nbconvert_exporter": "python",
   "pygments_lexer": "ipython3",
   "version": "3.7.5"
  }
 },
 "nbformat": 4,
 "nbformat_minor": 4
}
