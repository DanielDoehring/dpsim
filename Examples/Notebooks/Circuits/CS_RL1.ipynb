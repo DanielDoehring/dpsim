{
 "cells": [
  {
   "cell_type": "markdown",
   "metadata": {},
   "source": [
    "# MSP Simulation Example - Resistive Companion -"
   ]
  },
  {
   "cell_type": "markdown",
   "metadata": {},
   "source": [
    "## Sample Circuit"
   ]
  },
  {
   "cell_type": "markdown",
   "metadata": {},
   "source": [
    "<img src=\"Circuit_Exercise_Task1.png\" width=\"400\" align=\"left\">"
   ]
  },
  {
   "cell_type": "markdown",
   "metadata": {},
   "source": [
    "$R_1$ $=0.2 \\Omega$ <br>\n",
    "$L_1$ $=1mH$ <br>\n",
    "$I_1$$=10A$ <br> \n",
    "$i_L(0)=0 $  <br>"
   ]
  },
  {
   "cell_type": "markdown",
   "metadata": {},
   "source": [
    "## Circuit and Simulation Setup"
   ]
  },
  {
   "cell_type": "code",
   "execution_count": 1,
   "metadata": {},
   "outputs": [],
   "source": [
    "import numpy as np\n",
    "import ipywidgets as widget\n",
    "import matplotlib.pyplot as plt\n",
    "np.set_printoptions(sign=' ')\n",
    "\n",
    "# Circuit parameters\n",
    "R1 = 0.2\n",
    "L1 = 1e-3\n",
    "I_src= 10\n",
    "G1 = 1/R1"
   ]
  },
  {
   "cell_type": "markdown",
   "metadata": {},
   "source": [
    "## DC equivalent of Inductor"
   ]
  },
  {
   "cell_type": "markdown",
   "metadata": {},
   "source": [
    "### Equation of the inductor:\n",
    "\n",
    "$v_L(t) =L\\cdot\\frac{di_L}{dt}$\n",
    "\n",
    "### Integration:   \n",
    "\n",
    "$i_L(t+\\Delta{t}) =i_L(t) + \\frac{1}{L} \\int_{t}^{t+\\Delta{t}} \\ v_L(\\tau) d\\tau$\n",
    "\n",
    "### Discretization:   \n",
    "\n",
    "$i_L(k+1)= i_L(k) + \\frac{1}{L} \\int_{t_k}^{t_k+\\Delta{t}} \\ v_L(\\tau) d\\tau$\n",
    "\n",
    "### Application of trapezoidal rule:  \n",
    "\n",
    "$i_L(k)= i_L(k) + \\frac{1}{L} \\frac{v_L(k)+v_L(k+1)}{2} \\Delta{t} $\n",
    "\n",
    "$i_L(k+1)=\\frac{\\Delta{t}}{2L} v_L(k+1) + (i_L(k) + \\frac{\\Delta{t}}{2L} v_L(k))  $\n",
    "\n",
    "The inductor in the calculation step (k + 1) can be substituted with an inductance  $G_L = \\frac{\\Delta{t}}{2L}$ in parallel with a current source $A_L(k) = i_L(k) + \\frac{\\Delta{t}}{2L} v_L(k) $ \n",
    "\n",
    "\n",
    "\n",
    "\n"
   ]
  },
  {
   "cell_type": "markdown",
   "metadata": {},
   "source": [
    "<img src=\"Circuit_Exercise_Task1_DCequivalents.png\" width=\"400\" align=\"left\">"
   ]
  },
  {
   "cell_type": "markdown",
   "metadata": {},
   "source": [
    "## Run Simulation"
   ]
  },
  {
   "cell_type": "code",
   "execution_count": null,
   "metadata": {},
   "outputs": [],
   "source": [
    "# Perform simulation with dpsim\n",
    "import dpsim\n",
    "\n",
    "# Simulation parameters\n",
    "model_name = 'CS_R1L1'\n",
    "time_step = 1e-4\n",
    "final_time = 1e-3\n",
    "npoint = int(np.round(final_time/time_step))\n",
    "\n",
    "# Nodes\n",
    "gnd = dpsim.emt.Node.GND()\n",
    "n1 = dpsim.emt.Node('n1')\n",
    "n1.set_initial_voltage(voltage=complex(2,0),index=0)\n",
    "\n",
    "# Components\n",
    "r1 = dpsim.emt.ph1.Resistor('r1')\n",
    "r1.R = 0.2\n",
    "l1 = dpsim.emt.ph1.Inductor('l1')\n",
    "l1.L = 1e-3\n",
    "cs = dpsim.emt.ph1.CurrentSource('cs')\n",
    "cs.I_ref = complex(10,0)\n",
    "cs.f_src = 0\n",
    "\n",
    "cs.connect([gnd, n1])\n",
    "r1.connect([n1, gnd])\n",
    "l1.connect([n1, gnd])\n",
    "\n",
    "\n",
    "system = dpsim.SystemTopology(50, [gnd, n1], [cs, r1, l1])\n",
    "\n",
    "logger = dpsim.Logger(model_name)\n",
    "logger.log_attribute(n1, 'v');\n",
    "logger.log_attribute(r1, 'i_intf');\n",
    "logger.log_attribute(l1, 'i_intf');\n",
    "\n",
    "sim = dpsim.Simulation(model_name, system, timestep=time_step, duration=final_time, pbar=True, sim_type=1, log_level=1)\n",
    "sim.add_logger(logger)\n",
    "\n",
    "sim.start()"
   ]
  },
  {
   "cell_type": "code",
   "execution_count": 14,
   "metadata": {},
   "outputs": [],
   "source": [
    "from villas.dataprocessing.readtools import *\n",
    "from villas.dataprocessing.timeseries import *\n",
    "import re\n",
    "\n",
    "work_dir = 'logs/'\n",
    "log_path = work_dir + model_name + '_Solver.log'\n",
    "log_lines, log_sections = read_dpsim_log(log_path)\n",
    "\n",
    "for line_pos in log_sections['sysmat_stamp']:\n",
    "    print(log_lines[line_pos])\n",
    "    \n",
    "for line_pos in log_sections['sourcevec_stamp']:\n",
    "    print(log_lines[line_pos])"
   ]
  },
  {
   "cell_type": "markdown",
   "metadata": {},
   "source": [
    "## Read and show solution log"
   ]
  },
  {
   "cell_type": "code",
   "execution_count": 15,
   "metadata": {},
   "outputs": [
    {
     "name": "stdout",
     "output_type": "stream",
     "text": [
      "l1.i_intf: [-0.09901  -0.295069 -0.487246 -0.675617 -0.860259 -1.041244 -1.218645\n",
      " -1.392533 -1.562978 -1.730048]\n",
      "n1.v: [ 1.980198  1.940986  1.902551  1.864877  1.827948  1.791751  1.756271\n",
      "  1.721493  1.687404  1.65399 ]\n",
      "r1.i_intf: [-9.90099  -9.704931 -9.512754 -9.324383 -9.139741 -8.958756 -8.781355\n",
      " -8.607467 -8.437022 -8.269952]\n"
     ]
    }
   ],
   "source": [
    "from villas.dataprocessing.readtools import *\n",
    "from villas.dataprocessing.timeseries import *\n",
    "import re\n",
    "\n",
    "work_dir = 'logs/'\n",
    "model_name = 'CS_R1L1'\n",
    "log_path = work_dir + model_name + '.csv'\n",
    "ts_dpsim_emt = read_timeseries_dpsim(log_path, print_status=False)\n",
    "\n",
    "for key, val in ts_dpsim_emt.items():\n",
    "    print(key + ': ' + str(val.values))"
   ]
  },
  {
   "cell_type": "markdown",
   "metadata": {},
   "source": [
    "## Plot results"
   ]
  },
  {
   "cell_type": "code",
   "execution_count": 16,
   "metadata": {},
   "outputs": [
    {
     "data": {
      "image/png": "[encoded data removed]",
      "text/plain": [
       "<Figure size 720x576 with 1 Axes>"
      ]
     },
     "metadata": {
      "needs_background": "light"
     },
     "output_type": "display_data"
    }
   ],
   "source": [
    "import matplotlib.pyplot as plt\n",
    "\n",
    "#Extract plot data\n",
    "plot_data=ts_dpsim_emt[\"n1.v\"]\n",
    "y_values= np.asarray(plot_data.values)\n",
    "\n",
    "#Add initial value\n",
    "y_values= np.insert(y_values, 0, I_src*R1)\n",
    "t = np.arange(npoint+1)*time_step\n",
    "\n",
    "plt.figure(figsize=(10,8))\n",
    "plt.xlabel('Time [s]')\n",
    "plt.ylabel('Voltage [V]')\n",
    "plt.axis([0, final_time+time_step , 0, 2.05])\n",
    "plt.scatter(t,y_values, label='$e_{1}$(t)')\n",
    "\n",
    "#show corresponding values on the plot\n",
    "for i in np.arange(npoint+1):\n",
    "    plt.annotate('  ' + str(np.round(y_values[i], 2)), (t[i], y_values[i]))\n",
    "\n",
    "plt.legend(loc='upper right')\n",
    "plt.show()"
   ]
  },
  {
   "cell_type": "code",
   "execution_count": null,
   "metadata": {},
   "outputs": [],
   "source": []
  }
 ],
 "metadata": {
  "kernelspec": {
   "display_name": "Python 3",
   "language": "python",
   "name": "python3"
  },
  "language_info": {
   "codemirror_mode": {
    "name": "ipython",
    "version": 3
   },
   "file_extension": ".py",
   "mimetype": "text/x-python",
   "name": "python",
   "nbconvert_exporter": "python",
   "pygments_lexer": "ipython3",
   "version": "3.7.4"
  }
 },
 "nbformat": 4,
 "nbformat_minor": 4
}
