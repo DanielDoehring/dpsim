{
 "cells": [
  {
   "cell_type": "markdown",
   "metadata": {},
   "source": [
    "Quickstart Guide\n",
    "================\n",
    "\n",
    "This guides demonstrates the basic usage of DPsim as a [Python module](https://dpsim.fein-aachen.org/doc/development/sphinx/Python.html).\n",
    "\n",
    "(Please note that DPsim also provides a [C++ API](https://dpsim.fein-aachen.org/doc/development/doxygen).)\n",
    "\n",
    "The first simulation\n",
    "--------------------\n",
    "\n",
    "As a first simple, test we will simulate the following static network:\n",
    "\n",
    "![](Figures/rl_circuit.svg)\n",
    "\n",
    "The network consists of 4 nodes and 4 elements:\n",
    "\n",
    "| Component | Type            | Python Class                              | Node A | Node B | Paramter |\n",
    "| :---------| :----           | :---------------------------------------- | :----- | :----- | :------- |\n",
    "| v_s       | Voltage Source  | `dpsim.dp.ph1.VoltageSource`       | 0      | GND    | 10 kV    |\n",
    "| r_line    | Line Resistance | `dpsim.dp.ph1.Resistor`            | 0      | 1      | 1 Ohm    |\n",
    "| l_line    | Line Inductance | `dpsim.dp.ph1.Inductor`            | 1      | 2      | 1 Henry  |\n",
    "| r_load    | Load            | `dpsim.dp.ph1.Resistor`            | 2      | GND    | 1 kOhm   |"
   ]
  },
  {
   "cell_type": "markdown",
   "metadata": {},
   "source": [
    "Before we can start, we must import the DPsim Python module.\n",
    "We also add `dp` as an alias for the dynamic phasor components."
   ]
  },
  {
   "cell_type": "code",
   "execution_count": null,
   "metadata": {},
   "outputs": [],
   "source": [
    "import dpsim"
   ]
  },
  {
   "cell_type": "markdown",
   "metadata": {},
   "source": [
    "Next, we can define the model by creating a couple of components.\n",
    "Each component is identified by a name which is passed as the first argument.\n",
    "Following arguments are used to define the topology by assigning the component to a specific node / bus or to pass parameters."
   ]
  },
  {
   "cell_type": "code",
   "execution_count": null,
   "metadata": {},
   "outputs": [],
   "source": [
    "# Nodes\n",
    "gnd = dpsim.dp.Node.GND()\n",
    "n0  = dpsim.dp.Node(\"n0\")\n",
    "n1  = dpsim.dp.Node(\"n1\")\n",
    "n2  = dpsim.dp.Node(\"n2\")\n",
    "\n",
    "v_s = dpsim.dp.ph1.VoltageSource(\"v_s\")\n",
    "v_s.V_ref = 10000+0j\n",
    "r_line = dpsim.dp.ph1.Resistor(\"r_line\")\n",
    "r_line.R = 1\n",
    "l_line = dpsim.dp.ph1.Inductor(\"l_line\")\n",
    "l_line.L = 1\n",
    "r_load = dpsim.dp.ph1.Resistor(\"r_load\")\n",
    "r_load.R = 1000\n",
    "\n",
    "# Connections \n",
    "v_s.connect([n0, gnd])\n",
    "r_line.connect([n0, n1])\n",
    "l_line.connect([n1, n2])\n",
    "r_load.connect([n2, gnd])"
   ]
  },
  {
   "cell_type": "markdown",
   "metadata": {},
   "source": [
    "Next, we have to create a simulation object:"
   ]
  },
  {
   "cell_type": "code",
   "execution_count": null,
   "metadata": {},
   "outputs": [],
   "source": [
    "sys = dpsim.SystemTopology(50, [ n0, n1, n2 ], [ v_s, r_line, l_line, r_load ])"
   ]
  },
  {
   "cell_type": "markdown",
   "metadata": {},
   "source": [
    "We can also visualize the system topology:"
   ]
  },
  {
   "cell_type": "code",
   "execution_count": null,
   "metadata": {},
   "outputs": [],
   "source": [
    "sys"
   ]
  },
  {
   "cell_type": "markdown",
   "metadata": {},
   "source": [
    "Finally, we can start the simulation and wait for its completion:"
   ]
  },
  {
   "cell_type": "code",
   "execution_count": null,
   "metadata": {},
   "outputs": [],
   "source": [
    "sim = dpsim.Simulation(\"Example1\", sys, timestep = 1e-4, duration = 0.03, pbar = True)\n",
    "\n",
    "log = dpsim.Logger(\"Example1\")\n",
    "for n in sys.nodes:\n",
    "    log.log_attribute(sys.nodes[n], \"v\")\n",
    "\n",
    "sim.add_logger(log)\n",
    "    \n",
    "await sim.simulate()"
   ]
  },
  {
   "cell_type": "markdown",
   "metadata": {},
   "source": [
    "Results can be analyzed and plotted by the `villas.dataprocessing` package:"
   ]
  },
  {
   "cell_type": "code",
   "execution_count": null,
   "metadata": {},
   "outputs": [],
   "source": [
    "%matplotlib inline\n",
    "%config InlineBackend.figure_format = 'svg'\n",
    "%config InlineBackend.rc = {'font.size': 10, 'figure.figsize': (6.0, 4.0), 'figure.facecolor': 'white', 'savefig.dpi': 72, 'figure.subplot.bottom': 0.125, 'figure.edgecolor': 'white'}\n",
    "\n",
    "import matplotlib.pyplot as plt\n",
    "import villas.dataprocessing.plottools as pt\n",
    "import villas.dataprocessing.readtools as rt\n",
    "import villas.dataprocessing.timeseries as ts\n",
    "\n",
    "results     = rt.read_timeseries_dpsim('logs/Example1.csv')\n",
    "results_emt = [ results[series].frequency_shift(freq=50) for series in results ]\n",
    "\n",
    "for series in results_emt:\n",
    "    pt.plot_timeseries('Results EMT', series)\n",
    "\n",
    "plt.show()"
   ]
  },
  {
   "cell_type": "code",
   "execution_count": null,
   "metadata": {},
   "outputs": [],
   "source": [
    "!cat logs/Example1_Solver.log"
   ]
  }
 ],
 "metadata": {
  "kernelspec": {
   "display_name": "Python 3",
   "language": "python",
   "name": "python3"
  },
  "language_info": {
   "codemirror_mode": {
    "name": "ipython",
    "version": 3
   },
   "file_extension": ".py",
   "mimetype": "text/x-python",
   "name": "python",
   "nbconvert_exporter": "python",
   "pygments_lexer": "ipython3",
   "version": "3.7.5"
  }
 },
 "nbformat": 4,
 "nbformat_minor": 4
}
